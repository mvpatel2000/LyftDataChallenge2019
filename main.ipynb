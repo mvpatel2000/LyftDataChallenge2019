{
 "cells": [
  {
   "cell_type": "markdown",
   "metadata": {},
   "source": [
    "## Setup"
   ]
  },
  {
   "cell_type": "code",
   "execution_count": 2,
   "metadata": {},
   "outputs": [],
   "source": [
    "import os\n",
    "import datetime\n",
    "import numpy as np\n",
    "import sklearn\n",
    "\n",
    "import matplotlib.pyplot as plt"
   ]
  },
  {
   "cell_type": "code",
   "execution_count": 3,
   "metadata": {},
   "outputs": [
    {
     "name": "stdout",
     "output_type": "stream",
     "text": [
      "Number of drivers: 937\n"
     ]
    }
   ],
   "source": [
    "driver_ids = []\n",
    "with open('driver_ids.csv', 'r') as f:\n",
    "    driver_ids_raw = f.readlines()[1:]\n",
    "    for row in driver_ids_raw:\n",
    "        parsed_row = row[:-1].split(',')\n",
    "        parsed_row[1] = datetime.datetime.strptime(parsed_row[1], '%Y-%m-%d %H:%M:%S')\n",
    "        driver_ids.append(parsed_row)\n",
    "    \n",
    "print(\"Number of drivers:\", len(driver_ids))\n",
    "\n",
    "driver_ids_map = {}\n",
    "for driver_id, onboard_date in driver_ids:\n",
    "    driver_ids_map[driver_id] = onboard_date"
   ]
  },
  {
   "cell_type": "code",
   "execution_count": 4,
   "metadata": {},
   "outputs": [
    {
     "name": "stdout",
     "output_type": "stream",
     "text": [
      "Number of rides: 193502\n"
     ]
    }
   ],
   "source": [
    "ride_ids = []\n",
    "with open('ride_ids.csv', 'r') as f:\n",
    "    ride_ids_raw = f.readlines()[1:]\n",
    "    for row in ride_ids_raw:\n",
    "        parsed_row = row[:-1].split(',')\n",
    "        for i in range(2,5):\n",
    "            parsed_row[i] = int(parsed_row[i]) \n",
    "        ride_ids.append(parsed_row)\n",
    "\n",
    "print(\"Number of rides:\", len(ride_ids))\n",
    "\n",
    "ride_ids_map = {}\n",
    "for driver_id, ride_id, ride_distance, ride_duration, ride_prime_time in ride_ids:\n",
    "    ride_ids_map[ride_id] = [ride_distance, ride_duration, ride_prime_time]\n",
    "    \n",
    "driver_to_ride = {}\n",
    "ride_to_driver = {}\n",
    "for driver_id, ride_id, ride_distance, ride_duration, ride_prime_time in ride_ids:\n",
    "    driver_to_ride.setdefault(driver_id, []).append(ride_id)\n",
    "    ride_to_driver[driver_id] = ride_id"
   ]
  },
  {
   "cell_type": "code",
   "execution_count": 5,
   "metadata": {},
   "outputs": [
    {
     "name": "stdout",
     "output_type": "stream",
     "text": [
      "72f0fa0bd86800e9da5c4dced32c8735,arrived_at,\n",
      "\n",
      "Number of rides: 970405\n"
     ]
    }
   ],
   "source": [
    "ride_timestamps = []\n",
    "with open('ride_timestamps.csv', 'r') as f:\n",
    "    ride_timestamps_raw = f.readlines()[1:]\n",
    "    for row in ride_timestamps_raw:\n",
    "        parsed_row = row[:-1].split(',')\n",
    "        try:\n",
    "            parsed_row[2] = datetime.datetime.strptime(parsed_row[2], '%Y-%m-%d %H:%M:%S')\n",
    "        except:\n",
    "            print(row)\n",
    "            # TODO: 72f0fa0bd86800e9da5c4dced32c8735 has a missing timestamp with arrived at.\n",
    "            # It is currently hard coded in using the picked up at time. This needs to be checked.\n",
    "            parsed_row[2] = datetime.datetime.strptime(\"2016-04-20 12:02:20\", '%Y-%m-%d %H:%M:%S')\n",
    "        ride_timestamps.append(parsed_row)\n",
    "    \n",
    "print(\"Number of rides:\", len(ride_timestamps))\n",
    "\n",
    "ride_timestamps_map = {}\n",
    "for ride_id, event, timestamp in ride_timestamps:\n",
    "    #ride_timestamps_map[ride_id] = [event, timestamp]\n",
    "    ride_timestamps_map.setdefault(ride_id, {})[event] = timestamp"
   ]
  },
  {
   "cell_type": "code",
   "execution_count": 6,
   "metadata": {},
   "outputs": [
    {
     "name": "stdout",
     "output_type": "stream",
     "text": [
      "\n",
      "List of Data Structures\n",
      "\n",
      "driver_ids: 937 rows of ['driver_id', driver_onboard_date (datetime)]\n",
      "driver_ids_map: 'driver_id' -> driver_onboard_date (datetime)\n",
      "\n",
      "ride_ids: 193502 rows of ['driver_id', 'ride_id', ride_distance (int, m), ride_duration (int, s), ride_prime_time (int)]\n",
      "ride_ids_map: 'ride_id' -> [ride_distance (int, m), ride_duration (int, s), ride_prime_time]\n",
      "driver_to_ride: 'driver_id' -> list of ride_ids\n",
      "ride_to_driver: 'ride_id' -> 'driver_id'\n",
      "\n",
      "ride_timestamps: 970405 rows of ['ride_id', 'event', timestamp (datetime)]\n",
      "ride_timestamps_map: 'ride_id' -> ('event' -> timestamp (datetime))\n",
      "\n",
      "list of prime times: [0, 25, 50, 75, 100, 150, 200, 250, 300, 350, 400, 500]\n",
      "list of events: ['requested_at', 'dropped_off_at', 'accepted_at', 'picked_up_at', 'arrived_at']\n",
      "\n"
     ]
    }
   ],
   "source": [
    "data_structures = '''\n",
    "List of Data Structures\n",
    "\n",
    "driver_ids: 937 rows of ['driver_id', driver_onboard_date (datetime)]\n",
    "driver_ids_map: 'driver_id' -> driver_onboard_date (datetime)\n",
    "\n",
    "ride_ids: 193502 rows of ['driver_id', 'ride_id', ride_distance (int, m), ride_duration (int, s), ride_prime_time (int)]\n",
    "ride_ids_map: 'ride_id' -> [ride_distance (int, m), ride_duration (int, s), ride_prime_time]\n",
    "driver_to_ride: 'driver_id' -> list of ride_ids\n",
    "ride_to_driver: 'ride_id' -> 'driver_id'\n",
    "\n",
    "ride_timestamps: 970405 rows of ['ride_id', 'event', timestamp (datetime)]\n",
    "ride_timestamps_map: 'ride_id' -> ('event' -> timestamp (datetime))\n",
    "\n",
    "list of prime times: [0, 25, 50, 75, 100, 150, 200, 250, 300, 350, 400, 500]\n",
    "list of events: ['requested_at', 'dropped_off_at', 'accepted_at', 'picked_up_at', 'arrived_at']\n",
    "'''\n",
    "print(data_structures)"
   ]
  },
  {
   "cell_type": "markdown",
   "metadata": {},
   "source": [
    "## Average Projected Driver Lifetime"
   ]
  },
  {
   "cell_type": "code",
   "execution_count": 7,
   "metadata": {},
   "outputs": [],
   "source": [
    "driver_time = {}\n",
    "for driver_id, onboard_date in driver_ids:\n",
    "    max_time = 0\n",
    "    for ride_id in driver_to_ride.get(driver_id,[]):\n",
    "        try:\n",
    "            max_time = max(max_time, (ride_timestamps_map[ride_id]['arrived_at'] - onboard_date).days)\n",
    "        except: # Note: This happens a lot...\n",
    "            # print(\"Missing data... ride_id:\",ride_id,\"does not exist.\")\n",
    "            pass\n",
    "    driver_time[driver_id] = max_time"
   ]
  },
  {
   "cell_type": "code",
   "execution_count": 41,
   "metadata": {},
   "outputs": [
    {
     "data": {
      "image/png": "[encoded data removed]",
      "text/plain": [
       "<Figure size 432x288 with 1 Axes>"
      ]
     },
     "metadata": {},
     "output_type": "display_data"
    },
    {
     "name": "stdout",
     "output_type": "stream",
     "text": [
      "Lifetimes Mean: 49.200640341515474 Lifetimes Median: 54.0\n"
     ]
    },
    {
     "data": {
      "image/png": "[encoded data removed]",
      "text/plain": [
       "<Figure size 432x288 with 1 Axes>"
      ]
     },
     "metadata": {},
     "output_type": "display_data"
    },
    {
     "name": "stdout",
     "output_type": "stream",
     "text": [
      "Clean Lifetimes Mean: 55.07885304659498 Clean Lifetimes Median: 57.0\n"
     ]
    }
   ],
   "source": [
    "lifetimes = list(driver_time.values())\n",
    "lifetimes_mean = np.mean(np.asarray(lifetimes))\n",
    "lifetimes_median = np.median(np.asarray(lifetimes))\n",
    "\n",
    "num_bins = 90\n",
    "n, bins, patches = plt.hist(lifetimes, num_bins, facecolor='blue', alpha=0.5)\n",
    "plt.axvline(x=lifetimes_mean, color='green')\n",
    "plt.axvline(x=lifetimes_median, color='red')\n",
    "plt.show()\n",
    "print(\"Lifetimes Mean:\", lifetimes_mean, \"Lifetimes Median:\", lifetimes_median)\n",
    "\n",
    "clean_lifetimes = [x for x in lifetimes if x != 0]\n",
    "clean_lifetimes_mean = np.mean(np.asarray(real_lifetimes))\n",
    "clean_lifetimes_median = np.median(np.asarray(real_lifetimes))\n",
    "n, bins, patches = plt.hist(real_lifetimes, num_bins, facecolor='blue', alpha=0.5)\n",
    "plt.axvline(x=clean_lifetimes_mean, color='green')\n",
    "plt.axvline(x=clean_lifetimes_median, color='red')\n",
    "plt.show()\n",
    "print(\"Clean Lifetimes Mean:\", clean_lifetimes_mean, \"Clean Lifetimes Median:\", clean_lifetimes_median)"
   ]
  }
 ],
 "metadata": {
  "kernelspec": {
   "display_name": "Python 3",
   "language": "python",
   "name": "python3"
  }
 },
 "nbformat": 4,
 "nbformat_minor": 2
}
