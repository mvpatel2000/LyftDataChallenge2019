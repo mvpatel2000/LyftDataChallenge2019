{
 "cells": [
  {
   "cell_type": "markdown",
   "metadata": {},
   "source": [
    "## Setup"
   ]
  },
  {
   "cell_type": "code",
   "execution_count": 78,
   "metadata": {},
   "outputs": [],
   "source": [
    "import os\n",
    "import datetime\n",
    "import numpy as np\n",
    "import sklearn"
   ]
  },
  {
   "cell_type": "code",
   "execution_count": 84,
   "metadata": {},
   "outputs": [
    {
     "name": "stdout",
     "output_type": "stream",
     "text": [
      "Number of drivers: 937\n"
     ]
    }
   ],
   "source": [
    "driver_ids = []\n",
    "with open('driver_ids.csv', 'r') as f:\n",
    "    driver_ids_raw = f.readlines()[1:]\n",
    "    for row in driver_ids_raw:\n",
    "        parsed_row = row[:-1].split(',')\n",
    "        parsed_row[1] = datetime.datetime.strptime(parsed_row[1], '%Y-%m-%d %H:%M:%S')\n",
    "        driver_ids.append(parsed_row)\n",
    "    \n",
    "print(\"Number of drivers:\", len(driver_ids))\n",
    "\n",
    "driver_ids_map = {}\n",
    "for driver_id, onboard_date in driver_ids:\n",
    "    driver_ids_map[driver_id] = onboard_date"
   ]
  },
  {
   "cell_type": "code",
   "execution_count": 73,
   "metadata": {},
   "outputs": [
    {
     "name": "stdout",
     "output_type": "stream",
     "text": [
      "Fields: ['driver_id', 'ride_id', 'ride_distance', 'ride_duration', 'ride_prime_time']\n",
      "Number of rides: 193502\n"
     ]
    }
   ],
   "source": [
    "ride_ids = []\n",
    "with open('ride_ids.csv', 'r') as f:\n",
    "    ride_ids_raw = f.readlines()[1:]\n",
    "    for row in ride_ids_raw:\n",
    "         ride_ids.append(row[:-1].split(','))\n",
    "\n",
    "print(\"Number of rides:\", len(ride_ids))\n",
    "\n",
    "ride_ids_map = {}\n",
    "for driver_id, ride_id, ride_distance, ride_duration, ride_prime_time in ride_ids:\n",
    "    ride_ids_map[ride_id] = [ride_distance, ride_duration, ride_prime_time]\n",
    "    \n",
    "driver_to_ride = {}\n",
    "ride_to_driver = {}\n",
    "for driver_id, ride_id, ride_distance, ride_duration, ride_prime_time in ride_ids:\n",
    "    driver_to_ride.setdefault(driver_id, []).append(ride_id)\n",
    "    ride_to_driver[driver_id] = ride_id"
   ]
  },
  {
   "cell_type": "code",
   "execution_count": 93,
   "metadata": {},
   "outputs": [
    {
     "name": "stdout",
     "output_type": "stream",
     "text": [
      "72f0fa0bd86800e9da5c4dced32c8735,arrived_at,\n",
      "\n",
      "Number of rides: 970405\n"
     ]
    }
   ],
   "source": [
    "ride_timestamps = []\n",
    "with open('ride_timestamps.csv', 'r') as f:\n",
    "    ride_timestamps_raw = f.readlines()[1:]\n",
    "    for row in ride_timestamps_raw:\n",
    "        parsed_row = row[:-1].split(',')\n",
    "        try:\n",
    "            parsed_row[2] = datetime.datetime.strptime(parsed_row[2], '%Y-%m-%d %H:%M:%S')\n",
    "        except:\n",
    "            print(row)\n",
    "            # TODO: 72f0fa0bd86800e9da5c4dced32c8735 has a missing timestamp with arrived at.\n",
    "            # It is currently hard coded in using the picked up at time. This needs to be checked.\n",
    "            parsed_row[2] = datetime.datetime.strptime(\"2016-04-20 12:02:20\", '%Y-%m-%d %H:%M:%S')\n",
    "        ride_timestamps.append(parsed_row)\n",
    "    \n",
    "print(\"Number of rides:\", len(ride_timestamps))\n",
    "\n",
    "ride_timestamp_map = {}\n",
    "for ride_id, event, timestamp in ride_timestamps:\n",
    "    ride_timestamp_map[ride_id] = [event, timestamp]"
   ]
  },
  {
   "cell_type": "code",
   "execution_count": 82,
   "metadata": {},
   "outputs": [
    {
     "name": "stdout",
     "output_type": "stream",
     "text": [
      "\n",
      "List of Data Structures\n",
      "\n",
      "driver_ids: 937 rows of ['driver_id', driver_onboard_date (datetime)]\n",
      "driver_ids_map: 'driver_id' -> driver_onboard_date (datetime)\n",
      "\n",
      "ride_ids: 193502 rows of ['driver_id', 'ride_id', 'ride_distance', 'ride_duration', 'ride_prime_time']\n",
      "ride_ids_map: 'ride_id' -> [ride_distance, ride_duration, ride_prime_time]\n",
      "driver_to_ride: 'driver_id' -> list of ride_ids\n",
      "ride_to_driver: 'ride_id' -> 'driver_id'\n",
      "\n",
      "ride_timestamps: 970405 rows of ['ride_id', 'event', timestamp (datetime)]\n",
      "ride_timestamps_map: 'ride_id' -> ['event', timestamp (datetime)]\n",
      "\n"
     ]
    }
   ],
   "source": [
    "data_structures = '''\n",
    "List of Data Structures\n",
    "\n",
    "driver_ids: 937 rows of ['driver_id', driver_onboard_date (datetime)]\n",
    "driver_ids_map: 'driver_id' -> driver_onboard_date (datetime)\n",
    "\n",
    "ride_ids: 193502 rows of ['driver_id', 'ride_id', 'ride_distance', 'ride_duration', 'ride_prime_time']\n",
    "ride_ids_map: 'ride_id' -> [ride_distance, ride_duration, ride_prime_time]\n",
    "driver_to_ride: 'driver_id' -> list of ride_ids\n",
    "ride_to_driver: 'ride_id' -> 'driver_id'\n",
    "\n",
    "ride_timestamps: 970405 rows of ['ride_id', 'event', timestamp (datetime)]\n",
    "ride_timestamps_map: 'ride_id' -> ['event', timestamp (datetime)]\n",
    "'''\n",
    "print(data_structures)"
   ]
  },
  {
   "cell_type": "markdown",
   "metadata": {},
   "source": [
    "## Driver Classification\n"
   ]
  },
  {
   "cell_type": "code",
   "execution_count": 86,
   "metadata": {},
   "outputs": [
    {
     "name": "stdout",
     "output_type": "stream",
     "text": [
      "002be0ffdc997bd5c50703158b7c2491 2016-03-29\n"
     ]
    }
   ],
   "source": [
    "driver_time = {}\n",
    "for driver, onboard_date in driver_ids:\n",
    "    print(driver, onboard_date.date())\n",
    "    break"
   ]
  }
 ],
 "metadata": {
  "kernelspec": {
   "display_name": "Python 3",
   "language": "python",
   "name": "python3"
  },
  "language_info": {
   "codemirror_mode": {
    "name": "ipython",
    "version": 3
   },
   "file_extension": ".py",
   "mimetype": "text/x-python",
   "name": "python",
   "nbconvert_exporter": "python",
   "pygments_lexer": "ipython3",
   "version": "3.6.5"
  }
 },
 "nbformat": 4,
 "nbformat_minor": 2
}
