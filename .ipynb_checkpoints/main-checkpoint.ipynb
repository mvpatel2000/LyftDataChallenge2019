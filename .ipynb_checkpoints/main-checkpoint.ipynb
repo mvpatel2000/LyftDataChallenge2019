{
 "cells": [
  {
   "cell_type": "code",
   "execution_count": 1,
   "metadata": {},
   "outputs": [],
   "source": [
    "import os\n",
    "import math\n",
    "import datetime\n",
    "import numpy as np\n",
    "from sklearn.decomposition import PCA\n",
    "from sklearn.pipeline import Pipeline\n",
    "from sklearn.preprocessing import StandardScaler\n",
    "\n",
    "import matplotlib.pyplot as plt\n",
    "import scipy"
   ]
  },
  {
   "cell_type": "markdown",
   "metadata": {},
   "source": [
    "## Setup"
   ]
  },
  {
   "cell_type": "code",
   "execution_count": 2,
   "metadata": {},
   "outputs": [
    {
     "name": "stdout",
     "output_type": "stream",
     "text": [
      "('Number of drivers:', 937)\n"
     ]
    }
   ],
   "source": [
    "driver_ids = []\n",
    "with open('driver_ids.csv', 'r') as f:\n",
    "    driver_ids_raw = f.readlines()[1:]\n",
    "    for row in driver_ids_raw:\n",
    "        parsed_row = row[:-1].split(',')\n",
    "        parsed_row[1] = datetime.datetime.strptime(parsed_row[1], '%Y-%m-%d %H:%M:%S')\n",
    "        driver_ids.append(parsed_row)\n",
    "    \n",
    "print(\"Number of drivers:\", len(driver_ids))\n",
    "\n",
    "driver_ids_map = {}\n",
    "for driver_id, onboard_date in driver_ids:\n",
    "    driver_ids_map[driver_id] = onboard_date"
   ]
  },
  {
   "cell_type": "code",
   "execution_count": 3,
   "metadata": {},
   "outputs": [
    {
     "name": "stdout",
     "output_type": "stream",
     "text": [
      "('Number of rides:', 193502)\n"
     ]
    }
   ],
   "source": [
    "ride_ids = []\n",
    "with open('ride_ids.csv', 'r') as f:\n",
    "    ride_ids_raw = f.readlines()[1:]\n",
    "    for row in ride_ids_raw:\n",
    "        parsed_row = row[:-1].split(',')\n",
    "        for i in range(2,5):\n",
    "            parsed_row[i] = int(parsed_row[i]) \n",
    "        ride_ids.append(parsed_row)\n",
    "\n",
    "print(\"Number of rides:\", len(ride_ids))\n",
    "\n",
    "ride_ids_map = {}\n",
    "for driver_id, ride_id, ride_distance, ride_duration, ride_prime_time in ride_ids:\n",
    "    ride_ids_map[ride_id] = [ride_distance, ride_duration, ride_prime_time]\n",
    "    \n",
    "driver_to_ride = {}\n",
    "ride_to_driver = {}\n",
    "for driver_id, ride_id, ride_distance, ride_duration, ride_prime_time in ride_ids:\n",
    "    driver_to_ride.setdefault(driver_id, []).append(ride_id)\n",
    "    ride_to_driver[driver_id] = ride_id"
   ]
  },
  {
   "cell_type": "code",
   "execution_count": 4,
   "metadata": {},
   "outputs": [
    {
     "name": "stdout",
     "output_type": "stream",
     "text": [
      "72f0fa0bd86800e9da5c4dced32c8735,arrived_at,\n",
      "\n",
      "('Number of rides:', 970405)\n"
     ]
    }
   ],
   "source": [
    "ride_timestamps = []\n",
    "with open('ride_timestamps.csv', 'r') as f:\n",
    "    ride_timestamps_raw = f.readlines()[1:]\n",
    "    for row in ride_timestamps_raw:\n",
    "        parsed_row = row[:-1].split(',')\n",
    "        try:\n",
    "            parsed_row[2] = datetime.datetime.strptime(parsed_row[2], '%Y-%m-%d %H:%M:%S')\n",
    "        except:\n",
    "            print(row)\n",
    "            # TODO: 72f0fa0bd86800e9da5c4dced32c8735 has a missing timestamp with arrived at.\n",
    "            # It is currently hard coded in using the picked up at time. This needs to be checked.\n",
    "            parsed_row[2] = datetime.datetime.strptime(\"2016-04-20 12:02:20\", '%Y-%m-%d %H:%M:%S')\n",
    "        ride_timestamps.append(parsed_row)\n",
    "    \n",
    "print(\"Number of rides:\", len(ride_timestamps))\n",
    "\n",
    "ride_timestamps_map = {}\n",
    "for ride_id, event, timestamp in ride_timestamps:\n",
    "    #ride_timestamps_map[ride_id] = [event, timestamp]\n",
    "    ride_timestamps_map.setdefault(ride_id, {})[event] = timestamp"
   ]
  },
  {
   "cell_type": "code",
   "execution_count": 5,
   "metadata": {},
   "outputs": [
    {
     "name": "stdout",
     "output_type": "stream",
     "text": [
      "\n",
      "List of Data Structures\n",
      "\n",
      "driver_ids: 937 rows of ['driver_id', driver_onboard_date (datetime)]\n",
      "driver_ids_map: 'driver_id' -> driver_onboard_date (datetime)\n",
      "\n",
      "ride_ids: 193502 rows of ['driver_id', 'ride_id', ride_distance (int, m), ride_duration (int, s), ride_prime_time (int)]\n",
      "ride_ids_map: 'ride_id' -> [ride_distance (int, m), ride_duration (int, s), ride_prime_time]\n",
      "driver_to_ride: 'driver_id' -> list of ride_ids\n",
      "ride_to_driver: 'ride_id' -> 'driver_id'\n",
      "\n",
      "ride_timestamps: 970405 rows of ['ride_id', 'event', timestamp (datetime)]\n",
      "ride_timestamps_map: 'ride_id' -> ('event' -> timestamp (datetime))\n",
      "\n",
      "list of prime times: [0, 25, 50, 75, 100, 150, 200, 250, 300, 350, 400, 500]\n",
      "list of events: ['requested_at', 'dropped_off_at', 'accepted_at', 'picked_up_at', 'arrived_at']\n",
      "\n"
     ]
    }
   ],
   "source": [
    "data_structures = '''\n",
    "List of Data Structures\n",
    "\n",
    "driver_ids: 937 rows of ['driver_id', driver_onboard_date (datetime)]\n",
    "driver_ids_map: 'driver_id' -> driver_onboard_date (datetime)\n",
    "\n",
    "ride_ids: 193502 rows of ['driver_id', 'ride_id', ride_distance (int, m), ride_duration (int, s), ride_prime_time (int)]\n",
    "ride_ids_map: 'ride_id' -> [ride_distance (int, m), ride_duration (int, s), ride_prime_time]\n",
    "driver_to_ride: 'driver_id' -> list of ride_ids\n",
    "ride_to_driver: 'ride_id' -> 'driver_id'\n",
    "\n",
    "ride_timestamps: 970405 rows of ['ride_id', 'event', timestamp (datetime)]\n",
    "ride_timestamps_map: 'ride_id' -> ('event' -> timestamp (datetime))\n",
    "\n",
    "list of prime times: [0, 25, 50, 75, 100, 150, 200, 250, 300, 350, 400, 500]\n",
    "list of events: ['requested_at', 'dropped_off_at', 'accepted_at', 'picked_up_at', 'arrived_at']\n",
    "'''\n",
    "print(data_structures)"
   ]
  },
  {
   "cell_type": "markdown",
   "metadata": {},
   "source": [
    "## Average Projected Driver Lifetime"
   ]
  },
  {
   "cell_type": "code",
   "execution_count": 6,
   "metadata": {},
   "outputs": [
    {
     "name": "stdout",
     "output_type": "stream",
     "text": [
      "Number of days\n"
     ]
    },
    {
     "data": {
      "image/png": "[encoded data removed]",
      "text/plain": [
       "<Figure size 432x288 with 1 Axes>"
      ]
     },
     "metadata": {},
     "output_type": "display_data"
    },
    {
     "name": "stdout",
     "output_type": "stream",
     "text": [
      "('Lifetime Days Mean:', 49.200640341515474, 'Lifetime Days Median:', 54.0)\n"
     ]
    },
    {
     "data": {
      "image/png": "[encoded data removed]",
      "text/plain": [
       "<Figure size 432x288 with 1 Axes>"
      ]
     },
     "metadata": {},
     "output_type": "display_data"
    },
    {
     "name": "stdout",
     "output_type": "stream",
     "text": [
      "('Lifetime Days Mean Clean:', 55.07885304659498, 'Lifetime Days Median Clean:', 57.0)\n"
     ]
    }
   ],
   "source": [
    "print(\"Number of days\")\n",
    "\n",
    "driver_days = {}\n",
    "for driver_id, onboard_date in driver_ids:\n",
    "    max_time = 0\n",
    "    for ride_id in driver_to_ride.get(driver_id,[]):\n",
    "        try:\n",
    "            max_time = max(max_time, (ride_timestamps_map[ride_id]['arrived_at'] - onboard_date).days)\n",
    "        except: # Note: This happens a lot...\n",
    "            # print(\"Missing data... ride_id:\",ride_id,\"does not exist.\")\n",
    "            pass\n",
    "    driver_days[driver_id] = max_time\n",
    "\n",
    "lifetime_days = list(driver_days.values())\n",
    "lifetime_days_mean = np.mean(np.asarray(lifetime_days))\n",
    "lifetime_days_median = np.median(np.asarray(lifetime_days))\n",
    "\n",
    "num_bins = 90\n",
    "n, bins, patches = plt.hist(lifetime_days, num_bins, facecolor='blue', alpha=0.5)\n",
    "plt.axvline(x=lifetime_days_mean, color='green')\n",
    "plt.axvline(x=lifetime_days_median, color='red')\n",
    "plt.xlabel('Number of Days Employed')\n",
    "plt.ylabel('Number of Drivers')\n",
    "plt.show()\n",
    "print(\"Lifetime Days Mean:\", lifetime_days_mean, \"Lifetime Days Median:\", lifetime_days_median)\n",
    "\n",
    "lifetime_days_clean = [x for x in lifetime_days if x != 0]\n",
    "lifetime_days_mean_clean = np.mean(np.asarray(lifetime_days_clean))\n",
    "lifetime_days_median_clean = np.median(np.asarray(lifetime_days_clean))\n",
    "n, bins, patches = plt.hist(lifetime_days_clean, num_bins, facecolor='blue', alpha=0.5)\n",
    "plt.axvline(x=lifetime_days_mean_clean, color='green')\n",
    "plt.axvline(x=lifetime_days_median_clean, color='red')\n",
    "plt.xlabel('Number of Days Employed')\n",
    "plt.ylabel('Number of Drivers')\n",
    "plt.show()\n",
    "print(\"Lifetime Days Mean Clean:\", lifetime_days_mean_clean, \"Lifetime Days Median Clean:\", lifetime_days_median_clean)"
   ]
  },
  {
   "cell_type": "code",
   "execution_count": 7,
   "metadata": {},
   "outputs": [
    {
     "data": {
      "image/png": "[encoded data removed]",
      "text/plain": [
       "<Figure size 432x288 with 1 Axes>"
      ]
     },
     "metadata": {},
     "output_type": "display_data"
    },
    {
     "name": "stdout",
     "output_type": "stream",
     "text": [
      "('Active Lifetime Days Mean:', 27.87086446104589, 'Active Lifetime Days Median:', 28.0)\n"
     ]
    },
    {
     "data": {
      "image/png": "[encoded data removed]",
      "text/plain": [
       "<Figure size 432x288 with 1 Axes>"
      ]
     },
     "metadata": {},
     "output_type": "display_data"
    },
    {
     "name": "stdout",
     "output_type": "stream",
     "text": [
      "('Active Lifetime Days Mean Clean:', 31.200716845878137, 'Active Lifetime Days Median Clean:', 33.0)\n"
     ]
    }
   ],
   "source": [
    "driver_days_active = {}\n",
    "for driver_id, onboard_date in driver_ids:\n",
    "    active_temp = set()\n",
    "    for ride_id in driver_to_ride.get(driver_id,[]):    \n",
    "        try:\n",
    "            ride_day = (ride_timestamps_map[ride_id]['arrived_at'] - onboard_date).days\n",
    "            active_temp.add(ride_day)\n",
    "        except: # Note: This happens a lot...\n",
    "            #print(\"Missing data... ride_id:\",ride_id,\"does not exist.\")\n",
    "            pass\n",
    "    driver_days_active[driver_id] = len(active_temp)\n",
    "#print(driver_lifetime_active)\n",
    "\n",
    "active_lifetime_days = list(driver_days_active.values())\n",
    "active_lifetime_days_mean = np.mean(np.asarray(active_lifetime_days))\n",
    "active_lifetime_days_median = np.median(np.asarray(active_lifetime_days))\n",
    "\n",
    "num_bins = 90\n",
    "n, bins, patches = plt.hist(active_lifetime_days, num_bins, facecolor='blue', alpha=0.5)\n",
    "plt.axvline(x=active_lifetime_days_mean, color='green')\n",
    "plt.axvline(x=active_lifetime_days_median, color='red')\n",
    "plt.xlabel('Number of Days Active')\n",
    "plt.ylabel('Number of Drivers')\n",
    "plt.show()\n",
    "print(\"Active Lifetime Days Mean:\", active_lifetime_days_mean, \"Active Lifetime Days Median:\", active_lifetime_days_median)\n",
    "\n",
    "active_lifetime_days_clean = [x for x in active_lifetime_days if x != 0]\n",
    "active_lifetime_days_mean_clean = np.mean(np.asarray(active_lifetime_days_clean))\n",
    "active_lifetime_days_median_clean = np.median(np.asarray(active_lifetime_days_clean))\n",
    "n, bins, patches = plt.hist(active_lifetime_days_clean, num_bins, facecolor='blue', alpha=0.5)\n",
    "plt.axvline(x=active_lifetime_days_mean_clean, color='green')\n",
    "plt.axvline(x=active_lifetime_days_median_clean, color='red')\n",
    "plt.xlabel('Number of Days Active')\n",
    "plt.ylabel('Number of Drivers')\n",
    "plt.show()\n",
    "print(\"Active Lifetime Days Mean Clean:\", active_lifetime_days_mean_clean, \"Active Lifetime Days Median Clean:\", active_lifetime_days_median_clean)"
   ]
  },
  {
   "cell_type": "code",
   "execution_count": 23,
   "metadata": {},
   "outputs": [
    {
     "name": "stdout",
     "output_type": "stream",
     "text": [
      "Number of rides\n"
     ]
    },
    {
     "data": {
      "image/png": "[encoded data removed]",
      "text/plain": [
       "<Figure size 432x288 with 1 Axes>"
      ]
     },
     "metadata": {},
     "output_type": "display_data"
    },
    {
     "name": "stdout",
     "output_type": "stream",
     "text": [
      "('Lifetime Rides Mean:', 198.3895410885806, 'Lifetime Rides Median:', 200.0)\n"
     ]
    },
    {
     "data": {
      "image/png": "[encoded data removed]",
      "text/plain": [
       "<Figure size 432x288 with 1 Axes>"
      ]
     },
     "metadata": {},
     "output_type": "display_data"
    },
    {
     "name": "stdout",
     "output_type": "stream",
     "text": [
      "('Lifetime Rides Clean Mean:', 217.67096018735364, 'Lifetime Rides Clean Median:', 223.0)\n",
      "83\n"
     ]
    },
    {
     "data": {
      "image/png": "[encoded data removed]",
      "text/plain": [
       "<Figure size 432x288 with 1 Axes>"
      ]
     },
     "metadata": {},
     "output_type": "display_data"
    },
    {
     "name": "stdout",
     "output_type": "stream",
     "text": [
      "('Lifetime Rides Short Mean:', 42.176811594202896, 'Lifetime Rides Short Median:', 41.0)\n"
     ]
    },
    {
     "data": {
      "image/png": "[encoded data removed]",
      "text/plain": [
       "<Figure size 432x288 with 1 Axes>"
      ]
     },
     "metadata": {},
     "output_type": "display_data"
    },
    {
     "name": "stdout",
     "output_type": "stream",
     "text": [
      "('Lifetime Rides Long Mean:', 336.6208251473477, 'Lifetime Rides Long Median:', 302.0)\n"
     ]
    }
   ],
   "source": [
    "print(\"Number of rides\")\n",
    "lifetime_rides = []\n",
    "for driver_id, onboard_date in driver_ids:\n",
    "    lifetime_rides.append(len(driver_to_ride.get(driver_id,[])))\n",
    "lifetime_rides_mean = np.mean(np.asarray(lifetime_rides))\n",
    "lifetime_rides_median = np.median(np.asarray(lifetime_rides))\n",
    "\n",
    "num_bins = 60\n",
    "n, bins, patches = plt.hist(lifetime_rides, num_bins, facecolor='blue', alpha=0.5)\n",
    "plt.axvline(x=lifetime_rides_mean, color='green')\n",
    "plt.axvline(x=lifetime_rides_median, color='red')\n",
    "plt.xlabel('Number of Rides')\n",
    "plt.ylabel('Number of Drivers')\n",
    "plt.show()\n",
    "print(\"Lifetime Rides Mean:\", lifetime_rides_mean, \"Lifetime Rides Median:\", lifetime_rides_median)\n",
    "\n",
    "lifetime_rides_clean = [x for x in lifetime_rides if x != 0]\n",
    "lifetime_rides_clean_mean = np.mean(np.asarray(lifetime_rides_clean))\n",
    "lifetime_rides_clean_median = np.median(np.asarray(lifetime_rides_clean))\n",
    "n, bins, patches = plt.hist(lifetime_rides_clean, num_bins, facecolor='blue', alpha=0.5)\n",
    "plt.axvline(x=lifetime_rides_clean_mean, color='green')\n",
    "plt.axvline(x=lifetime_rides_clean_median, color='red')\n",
    "plt.xlabel('Number of Rides')\n",
    "plt.ylabel('Number of Drivers')\n",
    "plt.title('Overall Lifetime Rides')\n",
    "plt.show()\n",
    "print(\"Lifetime Rides Clean Mean:\", lifetime_rides_clean_mean, \"Lifetime Rides Clean Median:\", lifetime_rides_clean_median)\n",
    "\n",
    "num_bins = 41\n",
    "lifetime_rides_short = [x for x in lifetime_rides_clean if x < 100]\n",
    "print(max(lifetime_rides_short))\n",
    "lifetime_rides_short_mean = np.mean(np.asarray(lifetime_rides_short))\n",
    "lifetime_rides_short_median = np.median(np.asarray(lifetime_rides_short))\n",
    "n, bins, patches = plt.hist(lifetime_rides_short, num_bins, facecolor='blue', alpha=0.5)\n",
    "plt.axvline(x=lifetime_rides_short_mean, color='green')\n",
    "plt.axvline(x=lifetime_rides_short_median, color='red')\n",
    "plt.ylim(top=64.05)\n",
    "plt.xlabel('Number of Rides')\n",
    "plt.ylabel('Number of Drivers')\n",
    "plt.title('Cluster of Lower Lifetime Rides')\n",
    "plt.show()\n",
    "print(\"Lifetime Rides Short Mean:\", lifetime_rides_short_mean, \"Lifetime Rides Short Median:\", lifetime_rides_short_median)\n",
    "\n",
    "lifetime_rides_long = [x for x in lifetime_rides_clean if x >= 100]\n",
    "lifetime_rides_long_mean = np.mean(np.asarray(lifetime_rides_long))\n",
    "lifetime_rides_long_median = np.median(np.asarray(lifetime_rides_long))\n",
    "n, bins, patches = plt.hist(lifetime_rides_long, num_bins, facecolor='blue', alpha=0.5)\n",
    "plt.axvline(x=lifetime_rides_long_mean, color='green')\n",
    "plt.axvline(x=lifetime_rides_long_median, color='red')\n",
    "plt.xlabel('Number of Rides')\n",
    "plt.ylabel('Number of Drivers')\n",
    "plt.title('Cluster of Higher Lifetime Rides')\n",
    "plt.show()\n",
    "print(\"Lifetime Rides Long Mean:\", lifetime_rides_long_mean, \"Lifetime Rides Long Median:\", lifetime_rides_long_median)"
   ]
  },
  {
   "cell_type": "code",
   "execution_count": 9,
   "metadata": {},
   "outputs": [
    {
     "name": "stdout",
     "output_type": "stream",
     "text": [
      "Number of hours\n"
     ]
    },
    {
     "data": {
      "image/png": "[encoded data removed]",
      "text/plain": [
       "<Figure size 432x288 with 1 Axes>"
      ]
     },
     "metadata": {},
     "output_type": "display_data"
    },
    {
     "name": "stdout",
     "output_type": "stream",
     "text": [
      "('Lifetime Hours Mean:', 13.00213447171825, 'Lifetime Hours Median:', 11.0)\n"
     ]
    },
    {
     "data": {
      "image/png": "[encoded data removed]",
      "text/plain": [
       "<Figure size 432x288 with 1 Axes>"
      ]
     },
     "metadata": {},
     "output_type": "display_data"
    },
    {
     "name": "stdout",
     "output_type": "stream",
     "text": [
      "('Lifetime Hours Mean Clean:', 14.660649819494585, 'Lifetime Hours Median Clean:', 14.0)\n",
      "6\n"
     ]
    },
    {
     "data": {
      "image/png": "[encoded data removed]",
      "text/plain": [
       "<Figure size 432x288 with 1 Axes>"
      ]
     },
     "metadata": {},
     "output_type": "display_data"
    },
    {
     "name": "stdout",
     "output_type": "stream",
     "text": [
      "('Lifetime Rides Short Mean:', 2.752442996742671, 'Lifetime Rides Short Median:', 2.0)\n"
     ]
    },
    {
     "data": {
      "image/png": "[encoded data removed]",
      "text/plain": [
       "<Figure size 432x288 with 1 Axes>"
      ]
     },
     "metadata": {},
     "output_type": "display_data"
    },
    {
     "name": "stdout",
     "output_type": "stream",
     "text": [
      "('Lifetime Rides Long Mean:', 21.637404580152673, 'Lifetime Rides Long Median:', 20.0)\n"
     ]
    }
   ],
   "source": [
    "print(\"Number of hours\")\n",
    "\n",
    "driver_hours = {}\n",
    "for driver_id, onboard_date in driver_ids:\n",
    "    num_seconds = 0\n",
    "    for ride_id in driver_to_ride.get(driver_id,[]):\n",
    "        try:\n",
    "            num_seconds += (ride_timestamps_map[ride_id]['arrived_at'] - ride_timestamps_map[ride_id]['accepted_at']).seconds\n",
    "        except: # Note: This happens a lot...\n",
    "            # print(\"Missing data... ride_id:\",ride_id,\"does not exist.\")\n",
    "            pass\n",
    "    driver_hours[driver_id] = num_seconds / 60 / 60\n",
    "\n",
    "lifetime_hours = list(driver_hours.values())\n",
    "lifetime_hours_mean = np.mean(np.asarray(lifetime_hours))\n",
    "lifetime_hours_median = np.median(np.asarray(lifetime_hours))\n",
    "\n",
    "num_bins = 90\n",
    "n, bins, patches = plt.hist(lifetime_hours, num_bins, facecolor='blue', alpha=0.5)\n",
    "plt.axvline(x=lifetime_hours_mean, color='green')\n",
    "plt.axvline(x=lifetime_hours_median, color='red')\n",
    "plt.show()\n",
    "print(\"Lifetime Hours Mean:\", lifetime_hours_mean, \"Lifetime Hours Median:\", lifetime_hours_median)\n",
    "\n",
    "lifetime_hours_clean = [x for x in lifetime_hours if x != 0]\n",
    "lifetime_hours_mean_clean = np.mean(np.asarray(lifetime_hours_clean))\n",
    "lifetime_hours_median_clean = np.median(np.asarray(lifetime_hours_clean))\n",
    "n, bins, patches = plt.hist(lifetime_hours_clean, num_bins, facecolor='blue', alpha=0.5)\n",
    "plt.axvline(x=lifetime_hours_mean_clean, color='green')\n",
    "plt.axvline(x=lifetime_hours_median_clean, color='red')\n",
    "plt.show()\n",
    "print(\"Lifetime Hours Mean Clean:\", lifetime_hours_mean_clean, \"Lifetime Hours Median Clean:\", lifetime_hours_median_clean)\n",
    "\n",
    "num_bins = 40\n",
    "lifetime_hours_short = [x for x in lifetime_hours_clean if x < 7]\n",
    "print(max(lifetime_hours_short))\n",
    "lifetime_hours_short_mean = np.mean(np.asarray(lifetime_hours_short))\n",
    "lifetime_hours_short_median = np.median(np.asarray(lifetime_hours_short))\n",
    "n, bins, patches = plt.hist(lifetime_hours_short, num_bins, facecolor='blue', alpha=0.5)\n",
    "plt.axvline(x=lifetime_hours_short_mean, color='green')\n",
    "plt.axvline(x=lifetime_hours_short_median, color='red')\n",
    "plt.ylim(top=38.85)\n",
    "plt.show()\n",
    "print(\"Lifetime Rides Short Mean:\", lifetime_hours_short_mean, \"Lifetime Rides Short Median:\", lifetime_hours_short_median)\n",
    "\n",
    "lifetime_hours_long = [x for x in lifetime_hours_clean if x >= 7]\n",
    "lifetime_hours_long_mean = np.mean(np.asarray(lifetime_hours_long))\n",
    "lifetime_hours_long_median = np.median(np.asarray(lifetime_hours_long))\n",
    "n, bins, patches = plt.hist(lifetime_hours_long, num_bins, facecolor='blue', alpha=0.5)\n",
    "plt.axvline(x=lifetime_hours_long_mean, color='green')\n",
    "plt.axvline(x=lifetime_hours_long_median, color='red')\n",
    "plt.show()\n",
    "print(\"Lifetime Rides Long Mean:\", lifetime_hours_long_mean, \"Lifetime Rides Long Median:\", lifetime_hours_long_median)"
   ]
  },
  {
   "cell_type": "code",
   "execution_count": 10,
   "metadata": {},
   "outputs": [
    {
     "name": "stdout",
     "output_type": "stream",
     "text": [
      "Scatter plot of days vs. rides\n"
     ]
    },
    {
     "data": {
      "image/png": "[encoded data removed]",
      "text/plain": [
       "<Figure size 432x288 with 1 Axes>"
      ]
     },
     "metadata": {},
     "output_type": "display_data"
    },
    {
     "data": {
      "image/png": "[encoded data removed]",
      "text/plain": [
       "<Figure size 432x288 with 1 Axes>"
      ]
     },
     "metadata": {},
     "output_type": "display_data"
    },
    {
     "data": {
      "image/png": "[encoded data removed]",
      "text/plain": [
       "<Figure size 432x288 with 1 Axes>"
      ]
     },
     "metadata": {},
     "output_type": "display_data"
    }
   ],
   "source": [
    "print(\"Scatter plot of days vs. rides\")\n",
    "x_days_clean = []\n",
    "y_rides_clean = []\n",
    "x_days_full = []\n",
    "y_rides_full = []\n",
    "for driver_id, days in driver_days.items():\n",
    "    if driver_hours[driver_id] != 0:\n",
    "        x_days_clean.append(days)\n",
    "        y_rides_clean.append(len(driver_to_ride.get(driver_id,[])))\n",
    "    else:\n",
    "        x_days_full.append(days)\n",
    "        y_rides_full.append(len(driver_to_ride.get(driver_id,[])))\n",
    "        \n",
    "plt.xlabel('Number of Days')\n",
    "plt.ylabel('Number of Rides')\n",
    "plt.scatter(x_days_clean,y_rides_clean,s=2)\n",
    "plt.scatter(x_days_full,y_rides_full,s=2,color='red')\n",
    "plt.show()\n",
    "\n",
    "x_days_clean = []\n",
    "y_hours_clean = []\n",
    "x_days_full = []\n",
    "y_hours_full = []\n",
    "for driver_id, days in driver_days.items():\n",
    "    if driver_hours[driver_id] != 0:\n",
    "        x_days_clean.append(days)\n",
    "        y_hours_clean.append(driver_hours[driver_id])\n",
    "    else:\n",
    "        x_days_full.append(days)\n",
    "        y_hours_full.append(driver_hours[driver_id])\n",
    "        \n",
    "plt.xlabel('Number of Days')\n",
    "plt.ylabel('Number of Hours')\n",
    "plt.scatter(x_days_clean,y_hours_clean,s=2)\n",
    "plt.scatter(x_days_full,y_hours_full,s=2,color='red')\n",
    "plt.show()\n",
    "\n",
    "x_hours_clean = []\n",
    "y_rides_clean = []\n",
    "x_hours_full = []\n",
    "y_rides_full = []\n",
    "for driver_id, hours in driver_hours.items():\n",
    "    if driver_hours[driver_id] != 0:\n",
    "        x_hours_clean.append(hours)\n",
    "        y_rides_clean.append(len(driver_to_ride.get(driver_id,[])))\n",
    "    else:\n",
    "        x_hours_full.append(hours)\n",
    "        y_rides_full.append(len(driver_to_ride.get(driver_id,[])))\n",
    "\n",
    "plt.xlabel('Number of Hours')\n",
    "plt.ylabel('Number of Rides')\n",
    "plt.scatter(x_hours_clean,y_rides_clean,s=2)\n",
    "plt.scatter(x_hours_full,y_rides_full,s=2,color='red')\n",
    "plt.show()"
   ]
  },
  {
   "cell_type": "code",
   "execution_count": 11,
   "metadata": {},
   "outputs": [],
   "source": [
    "driver_hours = {}\n",
    "for driver_id, onboard_date in driver_ids:\n",
    "    num_seconds = 0\n",
    "    for ride_id in driver_to_ride.get(driver_id,[]):\n",
    "        try:\n",
    "            num_seconds += (ride_timestamps_map[ride_id]['arrived_at'] - ride_timestamps_map[ride_id]['accepted_at']).seconds\n",
    "        except: # Note: This happens a lot...\n",
    "            # print(\"Missing data... ride_id:\",ride_id,\"does not exist.\")\n",
    "            pass\n",
    "    driver_hours[driver_id] = num_seconds / 60 / 60"
   ]
  },
  {
   "cell_type": "code",
   "execution_count": 12,
   "metadata": {},
   "outputs": [
    {
     "name": "stdout",
     "output_type": "stream",
     "text": [
      "Heatmap plot of days vs. rides\n"
     ]
    },
    {
     "data": {
      "image/png": "[encoded data removed]",
      "text/plain": [
       "<Figure size 432x288 with 1 Axes>"
      ]
     },
     "metadata": {},
     "output_type": "display_data"
    },
    {
     "data": {
      "image/png": "[encoded data removed]",
      "text/plain": [
       "<Figure size 432x288 with 1 Axes>"
      ]
     },
     "metadata": {},
     "output_type": "display_data"
    },
    {
     "data": {
      "image/png": "[encoded data removed]",
      "text/plain": [
       "<Figure size 432x288 with 1 Axes>"
      ]
     },
     "metadata": {},
     "output_type": "display_data"
    }
   ],
   "source": [
    "print(\"Heatmap plot of days vs. rides\")\n",
    "days_rides_heatmap = np.zeros((10,10))\n",
    "for driver_id, days in driver_days.items():\n",
    "    x_days = days\n",
    "    y_rides = len(driver_to_ride.get(driver_id,[]))\n",
    "    days_rides_heatmap[max(0,9-int(y_rides/100)),min(9,int(x_days/10))] += 1\n",
    "\n",
    "plt.xlabel('Number of Days')\n",
    "plt.ylabel('Number of Rides')\n",
    "plt.imshow(days_rides_heatmap, cmap='hot')\n",
    "plt.show()\n",
    "\n",
    "days_hours_heatmap = np.zeros((10,10))\n",
    "for driver_id, days in driver_days.items():\n",
    "    x_days = days\n",
    "    y_hours = driver_hours[driver_id]\n",
    "    days_hours_heatmap[max(0,9-int(y_hours/6)),min(9,int(x_days/10))] += 1\n",
    "    \n",
    "plt.xlabel('Number of Days')\n",
    "plt.ylabel('Number of Hours')\n",
    "plt.imshow(days_hours_heatmap, cmap='hot')\n",
    "plt.show()\n",
    "\n",
    "hours_rides_heatmap = np.zeros((10,10))\n",
    "for driver_id, hours in driver_hours.items():\n",
    "    x_hours = hours\n",
    "    y_rides = len(driver_to_ride.get(driver_id,[]))\n",
    "    hours_rides_heatmap[max(0,9-int(y_rides/100)),min(9,int(x_hours/6))] += 1\n",
    "    \n",
    "plt.xlabel('Number of Hours')\n",
    "plt.ylabel('Number of Rides')\n",
    "plt.imshow(hours_rides_heatmap, cmap='hot')\n",
    "plt.show()"
   ]
  },
  {
   "cell_type": "code",
   "execution_count": 13,
   "metadata": {},
   "outputs": [
    {
     "name": "stdout",
     "output_type": "stream",
     "text": [
      "Scatterplot\n"
     ]
    },
    {
     "data": {
      "image/png": "[encoded data removed]",
      "text/plain": [
       "<Figure size 432x288 with 1 Axes>"
      ]
     },
     "metadata": {},
     "output_type": "display_data"
    },
    {
     "data": {
      "image/png": "[encoded data removed]",
      "text/plain": [
       "<Figure size 432x288 with 1 Axes>"
      ]
     },
     "metadata": {},
     "output_type": "display_data"
    },
    {
     "data": {
      "image/png": "[encoded data removed]",
      "text/plain": [
       "<Figure size 432x288 with 1 Axes>"
      ]
     },
     "metadata": {},
     "output_type": "display_data"
    },
    {
     "data": {
      "image/png": "[encoded data removed]",
      "text/plain": [
       "<Figure size 432x288 with 1 Axes>"
      ]
     },
     "metadata": {},
     "output_type": "display_data"
    },
    {
     "data": {
      "image/png": "[encoded data removed]",
      "text/plain": [
       "<Figure size 432x288 with 1 Axes>"
      ]
     },
     "metadata": {},
     "output_type": "display_data"
    }
   ],
   "source": [
    "print(\"Scatterplot\")\n",
    "x = []\n",
    "y = []\n",
    "for driver_id, days in driver_days.items():\n",
    "    x_days = days\n",
    "    y_rides = len(driver_to_ride.get(driver_id,[]))\n",
    "    x.append(x_days)\n",
    "    y.append(y_rides)\n",
    "\n",
    "plt.xlabel('Number of Employed Days')\n",
    "plt.ylabel('Number of Rides')\n",
    "plt.scatter(x, y, s=2)\n",
    "plt.show()\n",
    "\n",
    "x = []\n",
    "y = []\n",
    "for driver_id, days in driver_days_active.items():\n",
    "    x_days = days\n",
    "    y_rides = len(driver_to_ride.get(driver_id,[]))\n",
    "    x.append(x_days)\n",
    "    y.append(y_rides)\n",
    "\n",
    "plt.xlabel('Number of Active Days')\n",
    "plt.ylabel('Number of Rides')\n",
    "plt.scatter(x, y, s=2)\n",
    "plt.show()\n",
    "\n",
    "x = []\n",
    "y = []\n",
    "for driver_id, days in driver_days.items():\n",
    "    x_days = days\n",
    "    y_hours = driver_hours[driver_id]\n",
    "    x.append(x_days)\n",
    "    y.append(y_hours)\n",
    "    \n",
    "plt.xlabel('Number of Employed Days')\n",
    "plt.ylabel('Number of Hours')\n",
    "plt.scatter(x, y, s=2)\n",
    "plt.show()\n",
    "\n",
    "x = []\n",
    "y = []\n",
    "for driver_id, days in driver_days_active.items():\n",
    "    x_days = days\n",
    "    y_hours = driver_hours[driver_id]\n",
    "    x.append(x_days)\n",
    "    y.append(y_hours)\n",
    "    \n",
    "plt.xlabel('Number of Active Days')\n",
    "plt.ylabel('Number of Hours')\n",
    "plt.scatter(x, y, s=2)\n",
    "plt.show()\n",
    "\n",
    "x = []\n",
    "y = []\n",
    "for driver_id, hours in driver_hours.items():\n",
    "    x_hours = hours\n",
    "    y_rides = len(driver_to_ride.get(driver_id,[]))\n",
    "    x.append(x_hours)\n",
    "    y.append(y_rides)\n",
    "    \n",
    "plt.xlabel('Number of Hours')\n",
    "plt.ylabel('Number of Rides')\n",
    "plt.scatter(x, y, s=2)\n",
    "plt.show()"
   ]
  },
  {
   "cell_type": "markdown",
   "metadata": {},
   "source": [
    "## Categories of Drivers"
   ]
  },
  {
   "cell_type": "code",
   "execution_count": 14,
   "metadata": {},
   "outputs": [
    {
     "name": "stdout",
     "output_type": "stream",
     "text": [
      "Day of week\n"
     ]
    },
    {
     "data": {
      "image/png": "[encoded data removed]",
      "text/plain": [
       "<Figure size 432x288 with 1 Axes>"
      ]
     },
     "metadata": {},
     "output_type": "display_data"
    },
    {
     "name": "stdout",
     "output_type": "stream",
     "text": [
      "('Component 1 (count):', array([0.28132626, 0.32709573, 0.36623304, 0.3997014 , 0.44944649,\n",
      "       0.45488873, 0.33324191]))\n",
      "('Component 2 (weekend):', array([-0.21418311, -0.33965469, -0.31149743, -0.28765337, -0.10146957,\n",
      "        0.54830229,  0.58996076]))\n",
      "('Component 3 (??):', array([ 0.51230235,  0.28849935,  0.04305716, -0.12423998, -0.52027016,\n",
      "       -0.31455726,  0.51710505]))\n",
      "('Explained Variance:', array([4826.64440583,  764.43579472,  246.77917925,  162.57920483,\n",
      "        137.18888002,  115.85724781,  108.42134342]))\n"
     ]
    },
    {
     "data": {
      "image/png": "[encoded data removed]",
      "text/plain": [
       "<Figure size 432x288 with 1 Axes>"
      ]
     },
     "metadata": {},
     "output_type": "display_data"
    },
    {
     "name": "stdout",
     "output_type": "stream",
     "text": [
      "('Component 1 (weekend):', array([ 0.00000000e+00, -1.46862710e-16,  7.07106781e-01,  0.00000000e+00,\n",
      "       -7.07106781e-01,  0.00000000e+00,  0.00000000e+00]))\n",
      "('Component 2 (friday night?):', array([0.        , 0.        , 0.70710678, 0.        , 0.70710678,\n",
      "       0.        , 0.        ]))\n",
      "('Component 3 (??):', array([ 0.00000000e+00, -1.00000000e+00, -1.11022302e-16,  0.00000000e+00,\n",
      "        1.11022302e-16,  0.00000000e+00,  0.00000000e+00]))\n",
      "('Explained Variance:', array([1.19617225e-03, 1.19331401e-03, 2.50230338e-36, 0.00000000e+00,\n",
      "       0.00000000e+00, 0.00000000e+00, 0.00000000e+00]))\n"
     ]
    },
    {
     "data": {
      "image/png": "[encoded data removed]",
      "text/plain": [
       "<Figure size 432x288 with 1 Axes>"
      ]
     },
     "metadata": {},
     "output_type": "display_data"
    },
    {
     "name": "stderr",
     "output_type": "stream",
     "text": [
      "/Users/kavyakopparapu/anaconda2/lib/python2.7/site-packages/sklearn/utils/validation.py:595: DataConversionWarning: Data with input dtype int64 was converted to float64 by StandardScaler.\n",
      "  warnings.warn(msg, DataConversionWarning)\n"
     ]
    },
    {
     "data": {
      "image/png": "[encoded data removed]",
      "text/plain": [
       "<Figure size 432x288 with 1 Axes>"
      ]
     },
     "metadata": {},
     "output_type": "display_data"
    },
    {
     "name": "stdout",
     "output_type": "stream",
     "text": [
      "('Component 1 (weekend):', array([ 0.00000000e+00, -1.46862710e-16,  7.07106781e-01,  0.00000000e+00,\n",
      "       -7.07106781e-01,  0.00000000e+00,  0.00000000e+00]))\n",
      "('Component 2 (friday night?):', array([0.        , 0.        , 0.70710678, 0.        , 0.70710678,\n",
      "       0.        , 0.        ]))\n",
      "('Component 3 (??):', array([ 0.00000000e+00, -1.00000000e+00, -1.11022302e-16,  0.00000000e+00,\n",
      "        1.11022302e-16,  0.00000000e+00,  0.00000000e+00]))\n",
      "('Explained Variance:', array([1.19617225e-03, 1.19331401e-03, 2.50230338e-36, 0.00000000e+00,\n",
      "       0.00000000e+00, 0.00000000e+00, 0.00000000e+00]))\n"
     ]
    },
    {
     "data": {
      "image/png": "[encoded data removed]",
      "text/plain": [
       "<Figure size 432x288 with 1 Axes>"
      ]
     },
     "metadata": {},
     "output_type": "display_data"
    }
   ],
   "source": [
    "print(\"Day of week\")\n",
    "\n",
    "# Full\n",
    "driver_weekday = {} # Note: [0] is Monday\n",
    "for driver_id, onboard_date in driver_ids:\n",
    "    weekday_counts = [0 for x in range(7)]\n",
    "    for ride_id in driver_to_ride.get(driver_id,[]):\n",
    "        try:\n",
    "            weekday_counts[ride_timestamps_map[ride_id]['arrived_at'].weekday()] += 1\n",
    "        except: # Note: This happens a lot...\n",
    "            # print(\"Missing data... ride_id:\",ride_id,\"does not exist.\")\n",
    "            pass\n",
    "    driver_weekday[driver_id] = weekday_counts\n",
    "    \n",
    "X = np.asarray([days for driver_id, days in driver_weekday.items()])\n",
    "pca = PCA(n_components=7)\n",
    "X_pca = pca.fit_transform(X)\n",
    "plt.scatter(X_pca[:,0],X_pca[:,1],s=2)\n",
    "plt.show()\n",
    "\n",
    "print(\"Component 1 (count):\", pca.components_[0])\n",
    "print(\"Component 2 (weekend):\", pca.components_[1])\n",
    "print(\"Component 3 (??):\", pca.components_[2])\n",
    "print(\"Explained Variance:\", pca.explained_variance_)\n",
    "\n",
    "# Clean\n",
    "driver_weekday_clean = {} # Note: [0] is Monday\n",
    "for driver_id, onboard_date in driver_ids:\n",
    "    weekday_counts = [0 for x in range(7)]\n",
    "    for ride_id in driver_to_ride.get(driver_id,[]):\n",
    "        try:\n",
    "            weekday_counts[ride_timestamps_map[ride_id]['arrived_at'].weekday()] += 1\n",
    "        except: # Note: This happens a lot...\n",
    "            # print(\"Missing data... ride_id:\",ride_id,\"does not exist.\")\n",
    "            pass\n",
    "    if sum(weekday_counts) > 0:\n",
    "        total = sum(weekday_counts)\n",
    "        for i in range(7):\n",
    "            weekday_counts[i] = weekday_counts[i] / total\n",
    "        driver_weekday_clean[driver_id] = weekday_counts\n",
    "\n",
    "X_clean = np.asarray([days for driver_id, days in driver_weekday_clean.items()])\n",
    "pca = PCA(n_components=7)\n",
    "X_pca_clean = pca.fit_transform(X_clean)\n",
    "plt.scatter(X_pca_clean[:,0],X_pca_clean[:,1],s=2)\n",
    "plt.show()\n",
    "\n",
    "print(\"Component 1 (weekend):\", pca.components_[0])\n",
    "print(\"Component 2 (friday night?):\", pca.components_[1])\n",
    "print(\"Component 3 (??):\", pca.components_[2])\n",
    "print(\"Explained Variance:\", pca.explained_variance_)\n",
    "\n",
    "num_bins = 50\n",
    "n, bins, patches = plt.hist(X_pca_clean[:,1], num_bins, facecolor='blue', alpha=0.5)\n",
    "plt.show()\n",
    "\n",
    "# Normed\n",
    "driver_weekday_norm = driver_weekday_clean\n",
    "X_norm = np.asarray([days for driver_id, days in driver_weekday_norm.items()])\n",
    "pipeline = Pipeline([('scaling', StandardScaler()), ('pca', PCA(n_components=7))])\n",
    "X_pca_norm = pipeline.fit_transform(X_norm)\n",
    "plt.scatter(X_pca_norm[:,0],X_pca_norm[:,1],s=2)\n",
    "plt.show()\n",
    "\n",
    "print(\"Component 1 (weekend):\", pca.components_[0])\n",
    "print(\"Component 2 (friday night?):\", pca.components_[1])\n",
    "print(\"Component 3 (??):\", pca.components_[2])\n",
    "print(\"Explained Variance:\", pca.explained_variance_)\n",
    "\n",
    "num_bins = 50\n",
    "n, bins, patches = plt.hist(X_pca_norm[:,1], num_bins, facecolor='blue', alpha=0.5)\n",
    "plt.show()"
   ]
  },
  {
   "cell_type": "code",
   "execution_count": 15,
   "metadata": {},
   "outputs": [
    {
     "name": "stdout",
     "output_type": "stream",
     "text": [
      "Percentage of weekend rides\n",
      "('Only week days percentage:', 0)\n",
      "('Only weekend percentage:', 0)\n"
     ]
    },
    {
     "data": {
      "image/png": "[encoded data removed]",
      "text/plain": [
       "<Figure size 432x288 with 1 Axes>"
      ]
     },
     "metadata": {},
     "output_type": "display_data"
    }
   ],
   "source": [
    "print(\"Percentage of weekend rides\")\n",
    "\n",
    "driver_weekday_clean = {} # Note: [0] is Monday\n",
    "for driver_id, onboard_date in driver_ids:\n",
    "    weekday_counts = [0 for x in range(7)]\n",
    "    for ride_id in driver_to_ride.get(driver_id,[]):\n",
    "        try:\n",
    "            weekday_counts[ride_timestamps_map[ride_id]['arrived_at'].weekday()] += 1\n",
    "        except: # Note: This happens a lot...\n",
    "            # print(\"Missing data... ride_id:\",ride_id,\"does not exist.\")\n",
    "            pass\n",
    "    if sum(weekday_counts) > 0:\n",
    "        total = sum(weekday_counts)\n",
    "        driver_weekday_clean[driver_id] = (weekday_counts[5]+weekday_counts[6])/total\n",
    "        \n",
    "print(\"Only week days percentage:\",len([x for x in driver_weekday_clean.values() if x < .001])/len(driver_weekday_clean.values())*100)\n",
    "print(\"Only weekend percentage:\",len([x for x in driver_weekday_clean.values() if x > .99])/len(driver_weekday_clean.values())*100)\n",
    "\n",
    "\n",
    "weekend_percentages = np.asarray(list(driver_weekday_clean.values()))\n",
    "num_bins = 50\n",
    "n, bins, patches = plt.hist(weekend_percentages, num_bins, facecolor='blue', alpha=0.5)\n",
    "plt.axvline(x=2/7, color='red')\n",
    "plt.show()"
   ]
  },
  {
   "cell_type": "code",
   "execution_count": 16,
   "metadata": {},
   "outputs": [
    {
     "name": "stdout",
     "output_type": "stream",
     "text": [
      "Entropy of week\n"
     ]
    },
    {
     "ename": "ValueError",
     "evalue": "math domain error",
     "output_type": "error",
     "traceback": [
      "\u001b[0;31m---------------------------------------------------------------------------\u001b[0m",
      "\u001b[0;31mValueError\u001b[0m                                Traceback (most recent call last)",
      "\u001b[0;32m<ipython-input-16-abcb63477a8e>\u001b[0m in \u001b[0;36m<module>\u001b[0;34m()\u001b[0m\n\u001b[1;32m     15\u001b[0m         \u001b[0;32mfor\u001b[0m \u001b[0mi\u001b[0m \u001b[0;32min\u001b[0m \u001b[0mrange\u001b[0m\u001b[0;34m(\u001b[0m\u001b[0;36m7\u001b[0m\u001b[0;34m)\u001b[0m\u001b[0;34m:\u001b[0m\u001b[0;34m\u001b[0m\u001b[0m\n\u001b[1;32m     16\u001b[0m             \u001b[0;32mif\u001b[0m \u001b[0mweekday_counts\u001b[0m\u001b[0;34m[\u001b[0m\u001b[0mi\u001b[0m\u001b[0;34m]\u001b[0m \u001b[0;34m>\u001b[0m \u001b[0;36m0\u001b[0m\u001b[0;34m:\u001b[0m\u001b[0;34m\u001b[0m\u001b[0m\n\u001b[0;32m---> 17\u001b[0;31m                 \u001b[0mentropy\u001b[0m \u001b[0;34m-=\u001b[0m \u001b[0mweekday_counts\u001b[0m\u001b[0;34m[\u001b[0m\u001b[0mi\u001b[0m\u001b[0;34m]\u001b[0m\u001b[0;34m/\u001b[0m\u001b[0mtotal\u001b[0m \u001b[0;34m*\u001b[0m \u001b[0mmath\u001b[0m\u001b[0;34m.\u001b[0m\u001b[0mlog\u001b[0m\u001b[0;34m(\u001b[0m\u001b[0mweekday_counts\u001b[0m\u001b[0;34m[\u001b[0m\u001b[0mi\u001b[0m\u001b[0;34m]\u001b[0m\u001b[0;34m/\u001b[0m\u001b[0mtotal\u001b[0m\u001b[0;34m)\u001b[0m\u001b[0;34m\u001b[0m\u001b[0m\n\u001b[0m\u001b[1;32m     18\u001b[0m         \u001b[0mdriver_weekday_clean\u001b[0m\u001b[0;34m[\u001b[0m\u001b[0mdriver_id\u001b[0m\u001b[0;34m]\u001b[0m \u001b[0;34m=\u001b[0m \u001b[0mentropy\u001b[0m\u001b[0;34m\u001b[0m\u001b[0m\n\u001b[1;32m     19\u001b[0m \u001b[0;34m\u001b[0m\u001b[0m\n",
      "\u001b[0;31mValueError\u001b[0m: math domain error"
     ]
    }
   ],
   "source": [
    "print(\"Entropy of week\")\n",
    "\n",
    "driver_weekday_clean = {} # Note: [0] is Monday\n",
    "for driver_id, onboard_date in driver_ids:\n",
    "    weekday_counts = [0 for x in range(7)]\n",
    "    for ride_id in driver_to_ride.get(driver_id,[]):\n",
    "        try:\n",
    "            weekday_counts[ride_timestamps_map[ride_id]['arrived_at'].weekday()] += 1\n",
    "        except: # Note: This happens a lot...\n",
    "            # print(\"Missing data... ride_id:\",ride_id,\"does not exist.\")\n",
    "            pass\n",
    "    if sum(weekday_counts) > 0:\n",
    "        entropy = 0\n",
    "        total = sum(weekday_counts)\n",
    "        for i in range(7):\n",
    "            if weekday_counts[i] > 0:\n",
    "                entropy -= weekday_counts[i]/total * math.log(weekday_counts[i]/total)\n",
    "        driver_weekday_clean[driver_id] = entropy\n",
    "                \n",
    "weekend_percentages = np.asarray(list(driver_weekday_clean.values()))\n",
    "num_bins = 50\n",
    "n, bins, patches = plt.hist(weekend_percentages, num_bins, facecolor='blue', alpha=0.5)\n",
    "plt.axvline(x=math.log(7), color='red')\n",
    "plt.show()\n",
    "\n",
    "print(\"Entropy of week vs. weekend\")\n",
    "\n",
    "driver_weekday_clean = {} # Note: [0] is Monday\n",
    "for driver_id, onboard_date in driver_ids:\n",
    "    weekday_counts = [0 for x in range(7)]\n",
    "    for ride_id in driver_to_ride.get(driver_id,[]):\n",
    "        try:\n",
    "            weekday_counts[ride_timestamps_map[ride_id]['arrived_at'].weekday()] += 1\n",
    "        except: # Note: This happens a lot...\n",
    "            # print(\"Missing data... ride_id:\",ride_id,\"does not exist.\")\n",
    "            pass\n",
    "    if sum(weekday_counts) > 0:\n",
    "        entropy = 0\n",
    "        total = sum(weekday_counts)\n",
    "        weekday = np.sum(np.asarray(weekday_counts)[:5])\n",
    "        weekend = np.sum(np.asarray(weekday_counts)[5:])\n",
    "        if weekday > 0:\n",
    "            entropy -= weekday/total*math.log(weekday/total)\n",
    "        if weekend > 0:\n",
    "            entropy -= weekend/total*math.log(weekend/total)\n",
    "        driver_weekday_clean[driver_id] = entropy \n",
    "        \n",
    "print(\"Just weekend or just weekdays percentage:\",len([x for x in driver_weekday_clean.values() if x < .001])/len(driver_weekday_clean.values())*100)\n",
    "        \n",
    "weekend_percentages = np.asarray(list(driver_weekday_clean.values()))\n",
    "num_bins = 50\n",
    "n, bins, patches = plt.hist(weekend_percentages, num_bins, facecolor='blue', alpha=0.5)\n",
    "plt.axvline(x=math.log(2), color='red')\n",
    "plt.show()"
   ]
  },
  {
   "cell_type": "code",
   "execution_count": null,
   "metadata": {
    "scrolled": false
   },
   "outputs": [],
   "source": [
    "print(\"Hour of day\")\n",
    "\n",
    "# Full\n",
    "driver_weekday = {}\n",
    "for driver_id, onboard_date in driver_ids:\n",
    "    hour_counts = [0 for x in range(24)]\n",
    "    for ride_id in driver_to_ride.get(driver_id,[]):\n",
    "        try:\n",
    "            hour_counts[int((ride_timestamps_map[ride_id]['accepted_at'].hour+ride_timestamps_map[ride_id]['arrived_at'].hour)/2)] += 1\n",
    "        except: # Note: This happens a lot...\n",
    "            # print(\"Missing data... ride_id:\",ride_id,\"does not exist.\")\n",
    "            pass\n",
    "    driver_weekday[driver_id] = hour_counts\n",
    "\n",
    "X = np.asarray([days for driver_id, days in driver_weekday.items()])\n",
    "pca = PCA(n_components=24)\n",
    "X_pca = pca.fit_transform(X)\n",
    "plt.scatter(X_pca[:,0],X_pca[:,1],s=2)\n",
    "plt.show()\n",
    "\n",
    "print(\"Component 1 (count):\", pca.components_[0])\n",
    "print(\"Component 2 (day):\", pca.components_[1])\n",
    "print(\"Component 3 (afternoon):\", pca.components_[2])\n",
    "print(\"Explained Variance:\", pca.explained_variance_)\n",
    "\n",
    "# Clean\n",
    "driver_weekday_clean = {}\n",
    "for driver_id, onboard_date in driver_ids:\n",
    "    hour_counts = [0 for x in range(24)]\n",
    "    for ride_id in driver_to_ride.get(driver_id,[]):\n",
    "        try:\n",
    "            hour_counts[int((ride_timestamps_map[ride_id]['accepted_at'].hour+ride_timestamps_map[ride_id]['arrived_at'].hour)/2)] += 1\n",
    "        except: # Note: This happens a lot...\n",
    "            # print(\"Missing data... ride_id:\",ride_id,\"does not exist.\")\n",
    "            pass\n",
    "    if sum(hour_counts) > 0:\n",
    "        total = sum(hour_counts)\n",
    "        for i in range(24):\n",
    "            hour_counts[i] = hour_counts[i]/total\n",
    "        driver_weekday_clean[driver_id] = hour_counts\n",
    "\n",
    "X_clean = np.asarray([days for driver_id, days in driver_weekday_clean.items()])\n",
    "pca = PCA(n_components=24)\n",
    "X_pca_clean = pca.fit_transform(X_clean)\n",
    "plt.scatter(X_pca_clean[:,0],X_pca_clean[:,1],s=2)\n",
    "plt.show()\n",
    "\n",
    "print(\"Component 1 (day):\", pca.components_[0])\n",
    "print(\"Component 2 (afternoon):\", pca.components_[1])\n",
    "print(\"Component 3 (??):\", pca.components_[2])\n",
    "print(\"Explained Variance:\", pca.explained_variance_)\n",
    "\n",
    "# Normed\n",
    "X_norm = np.asarray([days for driver_id, days in driver_weekday_norm.items()])\n",
    "pipeline = Pipeline([('scaling', StandardScaler()), ('pca', PCA(n_components=24))])\n",
    "X_pca_norm = pipeline.fit_transform(X_clean)\n",
    "plt.scatter(X_pca_norm[:,0],X_pca_norm[:,1],s=2)\n",
    "plt.show()\n",
    "\n",
    "print(\"Component 1 (day):\", pca.components_[0])\n",
    "print(\"Component 2 (afternoon):\", pca.components_[1])\n",
    "print(\"Component 3 (??):\", pca.components_[2])\n",
    "print(\"Explained Variance:\", pca.explained_variance_)"
   ]
  },
  {
   "cell_type": "code",
   "execution_count": 17,
   "metadata": {},
   "outputs": [
    {
     "name": "stdout",
     "output_type": "stream",
     "text": [
      "Percentage of out of work day rides\n",
      "('Just workday percentage:', 0)\n"
     ]
    },
    {
     "data": {
      "image/png": "[encoded data removed]",
      "text/plain": [
       "<Figure size 432x288 with 1 Axes>"
      ]
     },
     "metadata": {},
     "output_type": "display_data"
    }
   ],
   "source": [
    "print(\"Percentage of out of work day rides\")\n",
    "        \n",
    "driver_weekday_clean = {}\n",
    "for driver_id, onboard_date in driver_ids:\n",
    "    hour_counts = [0 for x in range(24)]\n",
    "    for ride_id in driver_to_ride.get(driver_id,[]):\n",
    "        try:\n",
    "            hour_counts[int((ride_timestamps_map[ride_id]['accepted_at'].hour+ride_timestamps_map[ride_id]['arrived_at'].hour)/2)] += 1\n",
    "        except: # Note: This happens a lot...\n",
    "            # print(\"Missing data... ride_id:\",ride_id,\"does not exist.\")\n",
    "            pass\n",
    "    if sum(hour_counts) > 0:\n",
    "        total = sum(hour_counts)\n",
    "        driver_weekday_clean[driver_id] = np.sum(np.asarray(hour_counts)[6:18]) / total\n",
    "        \n",
    "print(\"Just workday percentage:\",len([x for x in driver_weekday_clean.values() if x > .99])/len(driver_weekday_clean.values())*100)\n",
    "\n",
    "weekend_percentages = np.asarray(list(driver_weekday_clean.values()))\n",
    "num_bins = 50\n",
    "n, bins, patches = plt.hist(weekend_percentages, num_bins, facecolor='blue', alpha=0.5)\n",
    "plt.axvline(x=12/24, color='red')\n",
    "plt.show()"
   ]
  },
  {
   "cell_type": "markdown",
   "metadata": {},
   "source": [
    "## Cost Analysis Setup"
   ]
  },
  {
   "cell_type": "code",
   "execution_count": 18,
   "metadata": {},
   "outputs": [],
   "source": [
    "def ride_cost(ride_distance, ride_duration, ride_prime_time):\n",
    "    cost = 2.0+1.15*(ride_distance/1609.34)+0.22*(ride_duration/60.0)+1.75\n",
    "    cost = min(max(5.0, cost), 500)\n",
    "    return cost*((ride_prime_time+100)/100.0)"
   ]
  },
  {
   "cell_type": "markdown",
   "metadata": {},
   "source": [
    "## Lifetime Value Setup"
   ]
  },
  {
   "cell_type": "code",
   "execution_count": 19,
   "metadata": {},
   "outputs": [],
   "source": [
    "#total money made, total days active, total days employed, total hours active\n",
    "#of the form {driver_id -> [total money, total days active, total days employed, total hours active]}\n",
    "driver_lifetime_metadata = {} \n",
    "#data for every day of the form {driver_id -> {day number -> hours, money, or active}}\n",
    "driver_lifetime_hours = {}\n",
    "driver_lifetime_money = {}\n",
    "driver_lifetime_active = {}\n",
    "\n",
    "for driver_id, onboard_date in driver_ids:\n",
    "    total_money = 0.0\n",
    "    total_days_active = set()\n",
    "    total_days_employed = 0\n",
    "    total_hours_active = 0\n",
    "                \n",
    "    hours_temp = {}\n",
    "    money_temp = {}\n",
    "    active_temp = {}\n",
    "    for ride_id in driver_to_ride.get(driver_id,[]):    \n",
    "        try:\n",
    "            ride_distance = ride_ids_map[ride_id][0]\n",
    "            ride_duration = ride_ids_map[ride_id][1]\n",
    "            ride_prime_time = ride_ids_map[ride_id][2]\n",
    "\n",
    "            ride_money = ride_cost(ride_ids_map[ride_id][0],ride_ids_map[ride_id][1],ride_ids_map[ride_id][2])\n",
    "            ride_day = (ride_timestamps_map[ride_id]['arrived_at'] - onboard_date).days\n",
    "\n",
    "            total_money += ride_money\n",
    "            total_days_active.add(ride_day)\n",
    "            total_days_employed = max(total_days_employed, ride_day)\n",
    "            total_hours_active += ride_duration\n",
    "\n",
    "            if(ride_day in hours_temp):\n",
    "                hours_temp[ride_day] += ride_duration\n",
    "                money_temp[ride_day] += ride_money\n",
    "            else:\n",
    "                hours_temp[ride_day] = ride_duration\n",
    "                money_temp[ride_day] = ride_money\n",
    "            active_temp[ride_day] = 1\n",
    "        except: # Note: This happens a lot...\n",
    "            #print(\"Missing data... ride_id:\",ride_id,\"does not exist.\")\n",
    "            pass\n",
    "    hours_temp = {k: v /60/60 for k, v in hours_temp.items()}\n",
    "    driver_lifetime_hours[driver_id] = hours_temp\n",
    "    driver_lifetime_money[driver_id] = money_temp\n",
    "    driver_lifetime_active[driver_id] = active_temp\n",
    "    driver_lifetime_metadata[driver_id] = [total_money,len(total_days_active),total_days_employed+1,total_hours_active / 60 / 60]\n",
    "#print(driver_lifetime_active)"
   ]
  },
  {
   "cell_type": "code",
   "execution_count": 22,
   "metadata": {},
   "outputs": [
    {
     "name": "stdout",
     "output_type": "stream",
     "text": [
      "Histogram of (#active/#employed)*100 days\n"
     ]
    },
    {
     "data": {
      "image/png": "[encoded data removed]",
      "text/plain": [
       "<Figure size 432x288 with 1 Axes>"
      ]
     },
     "metadata": {},
     "output_type": "display_data"
    },
    {
     "name": "stdout",
     "output_type": "stream",
     "text": [
      "('Active/Employed Days Mean:', 55.07159105176969, 'Active/Employed Days Median:', 57.333333333333336)\n",
      "()\n"
     ]
    }
   ],
   "source": [
    "print(\"Histogram of (#active/#employed)*100 days\")\n",
    "active_over_employed = []\n",
    "for driver_id, onboard_date in driver_ids:\n",
    "    if(driver_lifetime_metadata[driver_id][1] > 0):\n",
    "        active_over_employed.append(100*(driver_lifetime_metadata[driver_id][1]+0.0)/driver_lifetime_metadata[driver_id][2])\n",
    "active_over_employed_mean = np.mean(np.asarray(active_over_employed))\n",
    "active_over_employed_median = np.median(np.asarray(active_over_employed))\n",
    "num_bins = 90\n",
    "n, bins, patches = plt.hist(active_over_employed, num_bins, facecolor='blue', alpha=0.5)\n",
    "plt.axvline(x=active_over_employed_mean, color='green')\n",
    "plt.axvline(x=active_over_employed_median, color='red')\n",
    "plt.xlabel('Active/Employed Days (%)')\n",
    "plt.ylabel('Number of Drivers')\n",
    "plt.show()\n",
    "print(\"Active/Employed Days Mean:\", active_over_employed_mean, \"Active/Employed Days Median:\", active_over_employed_median)\n",
    "print()"
   ]
  },
  {
   "cell_type": "markdown",
   "metadata": {},
   "source": [
    "## Prime Time Analysis"
   ]
  },
  {
   "cell_type": "markdown",
   "metadata": {},
   "source": [
    "### Prime Time Demand by Day of Week and Aggregate"
   ]
  },
  {
   "cell_type": "code",
   "execution_count": null,
   "metadata": {},
   "outputs": [],
   "source": [
    "demand_times_by_day = [[0] for l in range(0,7)] #where monday is 0\n",
    "primetime_by_day = [[0] for l in range(0,7)] #where monday is 0\n",
    "demand_aggregate_times = [] \n",
    "primetime_aggregate = [] \n",
    "for driver_id, onboard_date in driver_ids:\n",
    "    for ride_id in driver_to_ride.get(driver_id,[]):\n",
    "        try:\n",
    "            ride_distance = ride_ids_map[ride_id][0]\n",
    "            ride_duration = ride_ids_map[ride_id][1]\n",
    "            ride_prime_time = ride_ids_map[ride_id][2]\n",
    "\n",
    "            day = ride_timestamps_map[ride_id]['arrived_at'].weekday()\n",
    "            now = ride_timestamps_map[ride_id]['requested_at']\n",
    "            hrs_since_midnight = (now - now.replace(hour=0, minute=0, second=0, microsecond=0)).total_seconds()/60.0/60.0\n",
    "\n",
    "            demand_times_by_day[day].append(hrs_since_midnight)\n",
    "            primetime_by_day[day].append(ride_prime_time)\n",
    "            demand_aggregate_times.append(hrs_since_midnight)\n",
    "            primetime_aggregate.append(ride_prime_time)\n",
    "        except: # Note: This happens a lot...\n",
    "            #print(\"Missing data... ride_id:\",ride_id,\"does not exist.\")\n",
    "            pass\n",
    "days_of_the_week = [\"Monday\", \"Tuesday\", \"Wednesday\", \"Thursday\", \"Friday\", \"Saturday\", \"Sunday\"]\n",
    "for counter in range(0,7):\n",
    "    print(\"Prime Time Demand on \" + days_of_the_week[counter])\n",
    "    plt.xlabel('Time since midnight (in hours)')\n",
    "    plt.ylabel('Primetime')\n",
    "    plt.scatter(demand_times_by_day[counter],primetime_by_day[counter],s=2)\n",
    "    plt.show()\n",
    "\n",
    "print(\"Aggregate Prime Time Demand\")\n",
    "plt.xlabel('Time since midnight (in hours)')\n",
    "plt.ylabel('Average Primetime Bonus')\n",
    "plt.scatter(demand_aggregate_times,primetime_aggregate,s=2)\n",
    "plt.show()"
   ]
  },
  {
   "cell_type": "markdown",
   "metadata": {},
   "source": [
    "### Prime Time Demand by Day of Week and Aggregate (Smooth and averaged)"
   ]
  },
  {
   "cell_type": "code",
   "execution_count": null,
   "metadata": {},
   "outputs": [],
   "source": [
    "primetime_by_day_smooth = [{} for l in range(0,7)] #where monday is 0\n",
    "primetime_aggregate_smooth = {}\n",
    "number_points_per_time = [{} for l in range(0,7)]\n",
    "number_primetime_by_day = [0 for l in range(0,7)]\n",
    "\n",
    "for driver_id, onboard_date in driver_ids:\n",
    "    for ride_id in driver_to_ride.get(driver_id,[]):\n",
    "        try:\n",
    "            ride_distance = ride_ids_map[ride_id][0]\n",
    "            ride_duration = ride_ids_map[ride_id][1]\n",
    "            ride_prime_time = ride_ids_map[ride_id][2]\n",
    "\n",
    "            day = ride_timestamps_map[ride_id]['arrived_at'].weekday()\n",
    "            now = ride_timestamps_map[ride_id]['requested_at']\n",
    "            hrs_since_midnight = (int)((now - now.replace(hour=0, minute=0, second=0, microsecond=0)).total_seconds()/60.0/60.0)\n",
    "            \n",
    "            if(ride_prime_time > 0):\n",
    "                number_primetime_by_day[day] += 1\n",
    "            \n",
    "            if(hrs_since_midnight in primetime_by_day_smooth[day]):\n",
    "                primetime_by_day_smooth[day][hrs_since_midnight].append(ride_prime_time)\n",
    "                primetime_aggregate_smooth[hrs_since_midnight].append(ride_prime_time)\n",
    "                number_points_per_time[day][hrs_since_midnight] += 1\n",
    "            elif(hrs_since_midnight in number_points_per_time):\n",
    "                primetime_by_day_smooth[day][hrs_since_midnight] = [ride_prime_time]\n",
    "                primetime_aggregate_smooth[hrs_since_midnight].append(ride_prime_time)\n",
    "                number_points_per_time[day][hrs_since_midnight] = 1\n",
    "            else:\n",
    "                primetime_by_day_smooth[day][hrs_since_midnight] = [ride_prime_time]\n",
    "                primetime_aggregate_smooth[hrs_since_midnight] = [ride_prime_time]\n",
    "                number_points_per_time[day][hrs_since_midnight] = 1\n",
    "        except: # Note: This happens a lot...\n",
    "            #print(\"Missing data... ride_id:\",ride_id,\"does not exist.\")\n",
    "            pass\n",
    "\n",
    "days_of_the_week = [\"Monday\", \"Tuesday\", \"Wednesday\", \"Thursday\", \"Friday\", \"Saturday\", \"Sunday\"]\n",
    "for counter in range(0,7):\n",
    "    print(\"Prime Time Demand on \" + days_of_the_week[counter])\n",
    "    print(\"There were \" + str(number_primetime_by_day[counter]) + \" rides with primetime applied.\")\n",
    "    plt.xlabel('Time since midnight (in hours)')\n",
    "    plt.ylabel('Primetime')\n",
    "    x = []\n",
    "    y = []\n",
    "    for time in number_points_per_time[counter].keys():\n",
    "        x.append(time)\n",
    "        y.append(sum(primetime_by_day_smooth[counter][time])/(0.0+ number_points_per_time[counter][time]))\n",
    "    plt.scatter(x,y,s=2)\n",
    "    plt.ylim([0, 50])\n",
    "    plt.xlim([0, 24])\n",
    "    plt.plot(x,y)\n",
    "    plt.show()\n",
    "\n",
    "print(\"Aggregate Prime Time Demand\")\n",
    "plt.xlabel('Time since midnight (in hours)')\n",
    "plt.ylabel('Primetime')\n",
    "x = []\n",
    "y = []\n",
    "for time in [k for k in range(0,24)]:\n",
    "    x.append(time)\n",
    "    y.append(sum(primetime_aggregate_smooth[time])/(sum([number_points_per_time[j][time] for j in range(0,7)])+0.0))\n",
    "plt.scatter(x,y,s=2)\n",
    "plt.ylim([0, 50])\n",
    "plt.xlim([0, 24])\n",
    "plt.plot(x,y)\n",
    "plt.show()"
   ]
  },
  {
   "cell_type": "markdown",
   "metadata": {},
   "source": [
    "### Prime Time Demand by Day of Week and Aggregate (Smooth and averaged) without 0s"
   ]
  },
  {
   "cell_type": "code",
   "execution_count": null,
   "metadata": {},
   "outputs": [],
   "source": [
    "primetime_by_day_smooth = [{} for l in range(0,7)] #where monday is 0\n",
    "primetime_aggregate_smooth = {}\n",
    "number_points_per_time = [{} for l in range(0,7)]\n",
    "\n",
    "for driver_id, onboard_date in driver_ids:\n",
    "    for ride_id in driver_to_ride.get(driver_id,[]):\n",
    "        try:\n",
    "            ride_distance = ride_ids_map[ride_id][0]\n",
    "            ride_duration = ride_ids_map[ride_id][1]\n",
    "            ride_prime_time = ride_ids_map[ride_id][2]\n",
    "            \n",
    "            if(ride_prime_time != 0):\n",
    "                day = ride_timestamps_map[ride_id]['arrived_at'].weekday()\n",
    "                now = ride_timestamps_map[ride_id]['requested_at']\n",
    "                hrs_since_midnight = (int)((now - now.replace(hour=0, minute=0, second=0, microsecond=0)).total_seconds()/60.0/60.0)\n",
    "\n",
    "                if(hrs_since_midnight in primetime_by_day_smooth[day]):\n",
    "                    primetime_by_day_smooth[day][hrs_since_midnight].append(ride_prime_time)\n",
    "                    primetime_aggregate_smooth[hrs_since_midnight].append(ride_prime_time)\n",
    "                    number_points_per_time[day][hrs_since_midnight] += 1\n",
    "                elif(hrs_since_midnight in number_points_per_time):\n",
    "                    primetime_by_day_smooth[day][hrs_since_midnight] = [ride_prime_time]\n",
    "                    primetime_aggregate_smooth[hrs_since_midnight].append(ride_prime_time)\n",
    "                    number_points_per_time[day][hrs_since_midnight] = 1\n",
    "                else:\n",
    "                    primetime_by_day_smooth[day][hrs_since_midnight] = [ride_prime_time]\n",
    "                    primetime_aggregate_smooth[hrs_since_midnight] = [ride_prime_time]\n",
    "                    number_points_per_time[day][hrs_since_midnight] = 1\n",
    "        except: # Note: This happens a lot...\n",
    "            #print(\"Missing data... ride_id:\",ride_id,\"does not exist.\")\n",
    "            pass\n",
    "\n",
    "days_of_the_week = [\"Monday\", \"Tuesday\", \"Wednesday\", \"Thursday\", \"Friday\", \"Saturday\", \"Sunday\"]\n",
    "for counter in range(0,7):\n",
    "    print(\"Prime Time Demand on \" + days_of_the_week[counter])\n",
    "    plt.xlabel('Time since midnight (in hours)')\n",
    "    plt.ylabel('Primetime')\n",
    "    x = []\n",
    "    y = []\n",
    "    for time in number_points_per_time[counter].keys():\n",
    "        x.append(time)\n",
    "        y.append(sum(primetime_by_day_smooth[counter][time])/(0.0+ number_points_per_time[counter][time]))\n",
    "    plt.scatter(x,y,s=2)\n",
    "    plt.plot(x,y)\n",
    "    plt.show()\n",
    "\n",
    "print(\"Aggregate Prime Time Demand\")\n",
    "plt.xlabel('Time since midnight (in hours)')\n",
    "plt.ylabel('Primetime')\n",
    "x = []\n",
    "y = []\n",
    "for time in [k for k in range(0,24)]:\n",
    "    x.append(time)\n",
    "    y.append(sum(primetime_aggregate_smooth[time])/(sum([number_points_per_time[j][time] for j in range(0,7)])+0.0))\n",
    "plt.scatter(x,y,s=2)\n",
    "plt.plot(x,y)\n",
    "plt.show()"
   ]
  },
  {
   "cell_type": "code",
   "execution_count": null,
   "metadata": {},
   "outputs": [],
   "source": [
    "percent_prime_time = []\n",
    "average_percent_non_primetime = []\n",
    "for driver_id, onboard_date in driver_ids:\n",
    "    prime_time_number = 0\n",
    "    total_rides = 0\n",
    "    for ride_id in driver_to_ride.get(driver_id,[]):\n",
    "        try:\n",
    "            if(ride_ids_map[ride_id][2] > 0):\n",
    "                prime_time_number += 1\n",
    "            total_rides += 1\n",
    "        except: # Note: This happens a lot...\n",
    "            #print(\"Missing data... ride_id:\",ride_id,\"does not exist.\")\n",
    "            pass\n",
    "    if(total_rides > 0):\n",
    "        percent_prime_time.append(100.0*(prime_time_number+0.0)/total_rides)\n",
    "        average_percent_non_primetime.append(100.0-(100.0*(prime_time_number+0.0)/total_rides))\n",
    "\n",
    "percent_primetime_mean = np.mean(np.asarray(percent_prime_time))\n",
    "percent_primetime_median = np.median(np.asarray(percent_prime_time))        \n",
    "num_bins = 90\n",
    "print(\"Percent of a Driver's Rides that are Primetime > 0\")\n",
    "plt.xlabel('% of Primetime Rides')\n",
    "plt.ylabel('Number of Drivers')\n",
    "n, bins, patches = plt.hist(percent_prime_time, num_bins, facecolor='blue', alpha=0.5)\n",
    "plt.axvline(x=percent_primetime_mean, color='green')\n",
    "plt.axvline(x=percent_primetime_median, color='red')\n",
    "plt.axvline(x=np.mean(np.asarray(average_percent_non_primetime)), color='orange')\n",
    "plt.show()\n",
    "print(\"Percent Primetime Rides Mean:\", percent_primetime_mean, \"Percent Primetime Rides Median:\", percent_primetime_median)\n",
    "print(\"Average Percent non-Primetime Rides\", np.mean(np.asarray(average_percent_non_primetime)))"
   ]
  },
  {
   "cell_type": "code",
   "execution_count": null,
   "metadata": {},
   "outputs": [],
   "source": [
    "thresholds = [0, 25, 50, 75, 100, 150, 200, 250, 300, 350, 400]\n",
    "for thres in thresholds:\n",
    "    percent_prime_time = []\n",
    "    for driver_id, onboard_date in driver_ids:\n",
    "        prime_time_number = 0\n",
    "        total_rides = 0\n",
    "        for ride_id in driver_to_ride.get(driver_id,[]):\n",
    "            try:\n",
    "                if(ride_ids_map[ride_id][2] > thres):\n",
    "                    prime_time_number += 1\n",
    "                total_rides += 1\n",
    "            except: # Note: This happens a lot...\n",
    "                #print(\"Missing data... ride_id:\",ride_id,\"does not exist.\")\n",
    "                pass\n",
    "        if(total_rides > 0):\n",
    "            percent_prime_time.append(100.0*(prime_time_number+0.0)/total_rides)\n",
    "    \n",
    "    percent_primetime_mean = np.mean(np.asarray(percent_prime_time))\n",
    "    percent_lessthan_mean = (len([i for i in percent_prime_time if i < percent_primetime_mean])+0.0)/len(percent_prime_time)\n",
    "    percent_zero = (len([i for i in percent_prime_time if i == 0])+0.0)/len(percent_prime_time)\n",
    "    percent_primetime_median = np.median(np.asarray(percent_prime_time))        \n",
    "    num_bins = 50\n",
    "    print(\"Percent of a Driver's Rides that are Primetime greater than \" + str(thres))\n",
    "    print(\"Percent less than the mean: \" + str(percent_lessthan_mean*100))\n",
    "    print(\"Percent of 0% primetime rides greater than threshold: \" + str(percent_zero*100))\n",
    "    plt.xlabel('% of Primetime Rides greater than primetime ' + str(thres))\n",
    "    plt.ylabel('Number of Drivers')\n",
    "    n, bins, patches = plt.hist(percent_prime_time, num_bins, facecolor='blue', alpha=0.5)\n",
    "    plt.axvline(x=percent_primetime_mean, color='green')\n",
    "    plt.axvline(x=percent_primetime_median, color='red')\n",
    "    plt.show()\n",
    "    print(\"Percent Primetime Rides Mean:\", percent_primetime_mean, \"Percent Primetime Rides Median:\", percent_primetime_median)\n",
    "    print(\"\")\n",
    "    print(\"\")"
   ]
  },
  {
   "cell_type": "markdown",
   "metadata": {},
   "source": [
    "## Monetary Analysis"
   ]
  },
  {
   "cell_type": "markdown",
   "metadata": {},
   "source": [
    "### Average ride value for each driver"
   ]
  },
  {
   "cell_type": "code",
   "execution_count": null,
   "metadata": {},
   "outputs": [],
   "source": [
    "average_ride_value = []\n",
    "for driver_id, onboard_date in driver_ids:\n",
    "    ride_value = 0\n",
    "    total_rides = 0\n",
    "    for ride_id in driver_to_ride.get(driver_id,[]):\n",
    "        try:\n",
    "            ride_distance = ride_ids_map[ride_id][0]\n",
    "            ride_duration = ride_ids_map[ride_id][1]\n",
    "            ride_prime_time = ride_ids_map[ride_id][2]\n",
    "\n",
    "            ride_value = ride_value + ride_cost(ride_distance,ride_duration,ride_prime_time)\n",
    "            total_rides += 1\n",
    "        except: # Note: This happens a lot...\n",
    "            #print(\"Missing data... ride_id:\",ride_id,\"does not exist.\")\n",
    "            pass\n",
    "    if(total_rides > 0):\n",
    "        average_ride_value.append((ride_value+0.0)/total_rides)\n",
    "\n",
    "average_ride_value_mean = np.mean(np.asarray(average_ride_value))\n",
    "average_ride_value_median = np.median(np.asarray(average_ride_value))        \n",
    "num_bins = 90\n",
    "print(\"Average Ride Monetary Value per Driver\")\n",
    "plt.xlabel('Average Ride Value ($)')\n",
    "plt.ylabel('Number of Drivers')\n",
    "n, bins, patches = plt.hist(average_ride_value, num_bins, facecolor='blue', alpha=0.5)\n",
    "plt.axvline(x=average_ride_value_mean, color='green')\n",
    "plt.axvline(x=average_ride_value_median, color='red')\n",
    "plt.show()\n",
    "print(\"Average Ride Value Mean:\", average_ride_value_mean, \"Average Ride Value Median:\", average_ride_value_median)"
   ]
  },
  {
   "cell_type": "code",
   "execution_count": null,
   "metadata": {},
   "outputs": [],
   "source": [
    "average_ride_value = [[] for l in range(2)] #weekday and then weekend\n",
    "for driver_id, onboard_date in driver_ids:\n",
    "    ride_value = [0,0]\n",
    "    total_rides = [0,0]\n",
    "    for ride_id in driver_to_ride.get(driver_id,[]):\n",
    "        try:\n",
    "            ride_distance = ride_ids_map[ride_id][0]\n",
    "            ride_duration = ride_ids_map[ride_id][1]\n",
    "            ride_prime_time = ride_ids_map[ride_id][2]\n",
    "            \n",
    "            if(ride_timestamps_map[ride_id]['arrived_at'].weekday()== 5 or ride_timestamps_map[ride_id]['arrived_at'].weekday()== 6):\n",
    "                ride_value[1] += ride_cost(ride_distance,ride_duration,ride_prime_time)\n",
    "                total_rides[1] += 1\n",
    "            else:\n",
    "                ride_value[0] += ride_cost(ride_distance,ride_duration,ride_prime_time)\n",
    "                total_rides[0] += 1\n",
    "        except: # Note: This happens a lot...\n",
    "            #print(\"Missing data... ride_id:\",ride_id,\"does not exist.\")\n",
    "            pass\n",
    "    if(total_rides[0] > 0):\n",
    "        average_ride_value[0].append((ride_value[0]+0.0)/total_rides[0])\n",
    "    if(total_rides[1] > 0):\n",
    "        average_ride_value[1].append((ride_value[1]+0.0)/total_rides[1])\n",
    "\n",
    "average_ride_value_mean = np.mean(np.asarray(average_ride_value[0]))\n",
    "average_ride_value_median = np.median(np.asarray(average_ride_value[0]))        \n",
    "num_bins = 90\n",
    "print(\"Average Ride Monetary Value per Driver on Weekend\")\n",
    "plt.xlabel('Average Ride Value ($)')\n",
    "plt.ylabel('Number of Drivers')\n",
    "n, bins, patches = plt.hist(average_ride_value[0], num_bins, facecolor='blue', alpha=0.5)\n",
    "plt.axvline(x=average_ride_value_mean, color='green')\n",
    "plt.axvline(x=average_ride_value_median, color='red')\n",
    "plt.show()\n",
    "print(\"Average Ride Value Mean:\", average_ride_value_mean, \"Average Ride Value Median:\", average_ride_value_median)\n",
    "\n",
    "average_ride_value_mean = np.mean(np.asarray(average_ride_value[1]))\n",
    "average_ride_value_median = np.median(np.asarray(average_ride_value[1]))\n",
    "print(\"Average Ride Monetary Value per Driver on Weekday\")\n",
    "plt.xlabel('Average Ride Value ($)')\n",
    "plt.ylabel('Number of Drivers')\n",
    "n, bins, patches = plt.hist(average_ride_value[1], num_bins, facecolor='blue', alpha=0.5)\n",
    "plt.axvline(x=average_ride_value_mean, color='green')\n",
    "plt.axvline(x=average_ride_value_median, color='red')\n",
    "plt.show()\n",
    "print(\"Average Ride Value Mean:\", average_ride_value_mean, \"Average Ride Value Median:\", average_ride_value_median)"
   ]
  },
  {
   "cell_type": "markdown",
   "metadata": {},
   "source": [
    "### Average Primetime Value and Percent Primetime Rides by Average Ride Value"
   ]
  },
  {
   "cell_type": "code",
   "execution_count": null,
   "metadata": {},
   "outputs": [],
   "source": [
    "average_ride_value = []\n",
    "average_prime_time = []\n",
    "percent_prime_time_list = []\n",
    "number_of_rides = []\n",
    "percent_employed = []\n",
    "for driver_id, onboard_date in driver_ids:\n",
    "    ride_value = 0\n",
    "    prime_time = 0\n",
    "    percent_prime_time = 0\n",
    "    total_rides = 0\n",
    "    active_temp = set()\n",
    "    employed_days = 0\n",
    "    for ride_id in driver_to_ride.get(driver_id,[]):\n",
    "        try:\n",
    "            ride_distance = ride_ids_map[ride_id][0]\n",
    "            ride_duration = ride_ids_map[ride_id][1]\n",
    "            ride_prime_time = ride_ids_map[ride_id][2]\n",
    "            ride_day = (ride_timestamps_map[ride_id]['arrived_at'] - onboard_date).days\n",
    "            \n",
    "            if(ride_prime_time > 0):\n",
    "                percent_prime_time += 1\n",
    "            \n",
    "            prime_time += ride_prime_time\n",
    "            ride_value += ride_cost(ride_distance,ride_duration,ride_prime_time)\n",
    "            total_rides += 1\n",
    "            employed_days = max(employed_days, ride_day+1)\n",
    "            active_temp.add(ride_day)\n",
    "        except: # Note: This happens a lot...\n",
    "            #print(\"Missing data... ride_id:\",ride_id,\"does not exist.\")\n",
    "            pass\n",
    "    if(total_rides > 0):\n",
    "        average_ride_value.append((ride_value+0.0)/total_rides)\n",
    "        average_prime_time.append((prime_time+0.0)/total_rides)\n",
    "        percent_prime_time_list.append((percent_prime_time+0.0)/total_rides)\n",
    "        number_of_rides.append(total_rides)\n",
    "        percent_employed.append((100*len(active_temp)+0.0)/employed_days)\n",
    "\n",
    "#slope, intercept, r_value, p_value, std_err = scipy.stats.linregress(average_prime_time, average_ride_value)\n",
    "#print(\"r^2 value of line of best fit: \"+str(r_value**2)) \n",
    "plt.xlabel('Average Prime Time of a Driver\\'s Rides')\n",
    "plt.ylabel('Average Ride Price of a Driver\\'s Rides')\n",
    "plt.scatter(average_prime_time,average_ride_value,s=2)\n",
    "#plt.scatter(x_hours_full,y_rides_full,s=2,color='red')\n",
    "#plt.plot(np.unique(average_prime_time), np.poly1d(np.polyfit(average_prime_time, average_ride_value, 1))(np.unique(average_prime_time)), color='red')\n",
    "plt.show()\n",
    "\n",
    "plt.xlabel('Percent of a Driver\\'s Rides that are Prime Time')\n",
    "plt.ylabel('Average Ride Price of a Driver\\'s Rides')\n",
    "plt.scatter(percent_prime_time_list,average_ride_value,s=2)\n",
    "#plt.plot(np.unique(percent_prime_time_list), np.poly1d(np.polyfit(percent_prime_time_list, average_ride_value, 1))(np.unique(percent_prime_time_list)))\n",
    "plt.show()\n",
    "\n",
    "plt.xlabel('Average Prime Time of a Driver\\'s Rides')\n",
    "plt.ylabel('Number of Rides a Driver Accepted')\n",
    "plt.scatter(average_prime_time,number_of_rides,s=2)\n",
    "plt.show()\n",
    "\n",
    "plt.xlabel('Average Prime Time of a Driver\\'s Rides')\n",
    "plt.ylabel('Percent of Employed Days that were Active')\n",
    "plt.scatter(average_prime_time,percent_employed,s=2)\n",
    "plt.show()"
   ]
  },
  {
   "cell_type": "code",
   "execution_count": null,
   "metadata": {},
   "outputs": [],
   "source": [
    "average_ride_value = []\n",
    "percent_prime_time_list = []\n",
    "average_zero = []\n",
    "average_above = []\n",
    "for driver_id, onboard_date in driver_ids:\n",
    "    ride_value = 0\n",
    "    prime_time = 0\n",
    "    percent_prime_time = 0\n",
    "    total_rides = 0\n",
    "    for ride_id in driver_to_ride.get(driver_id,[]):\n",
    "        try:\n",
    "            ride_distance = ride_ids_map[ride_id][0]\n",
    "            ride_duration = ride_ids_map[ride_id][1]\n",
    "            ride_prime_time = ride_ids_map[ride_id][2]\n",
    "            \n",
    "            if(ride_prime_time > 25):\n",
    "                percent_prime_time += 1\n",
    "            \n",
    "            ride_value += ride_cost(ride_distance,ride_duration,ride_prime_time)\n",
    "            total_rides += 1\n",
    "        except: # Note: This happens a lot...\n",
    "            #print(\"Missing data... ride_id:\",ride_id,\"does not exist.\")\n",
    "            pass\n",
    "    if(total_rides > 0):\n",
    "        average_ride_value.append((ride_value+0.0)/total_rides)\n",
    "        percent_prime_time_list.append((100*percent_prime_time+0.0)/total_rides)\n",
    "        if((100*percent_prime_time+0.0)/total_rides - 0 < 0.05):\n",
    "            average_zero.append((ride_value+0.0)/total_rides)\n",
    "        else:\n",
    "            average_above.append((ride_value+0.0)/total_rides)\n",
    "\n",
    "print(\"Average Ride Price of a Driver's Rides for 0% Greater than Primetime Threshold\" + str(sum(average_zero)/len(average_zero)))\n",
    "print(\"Average Ride Price of a Driver's Rides for some% Greater than Primetime Threshold\" + str(sum(average_above)/len(average_above)))\n",
    "plt.xlabel('Percent of a Driver\\'s Rides that are Prime Time >= 50')\n",
    "plt.ylabel('Average Ride Price of a Driver\\'s Rides')\n",
    "plt.scatter(percent_prime_time_list,average_ride_value,s=2)\n",
    "#plt.scatter(x_hours_full,y_rides_full,s=2,color='red')\n",
    "plt.show()"
   ]
  },
  {
   "cell_type": "code",
   "execution_count": null,
   "metadata": {},
   "outputs": [],
   "source": [
    "average_ride_value = []\n",
    "percent_prime_time_list = []\n",
    "for driver_id, onboard_date in driver_ids:\n",
    "    ride_value = 0\n",
    "    percent_prime_time = 0\n",
    "    prime_time_rides = 0\n",
    "    total_rides = 0\n",
    "    for ride_id in driver_to_ride.get(driver_id,[]):\n",
    "        try:\n",
    "            ride_distance = ride_ids_map[ride_id][0]\n",
    "            ride_duration = ride_ids_map[ride_id][1]\n",
    "            ride_prime_time = ride_ids_map[ride_id][2]\n",
    "            \n",
    "            if(ride_prime_time > 0):\n",
    "                prime_time_rides += 1\n",
    "                if(ride_timestamps_map[ride_id]['arrived_at'].weekday()== 5 or \n",
    "                  ride_timestamps_map[ride_id]['arrived_at'].weekday() == 6 or \n",
    "                   ride_timestamps_map[ride_id]['arrived_at'].weekday() == 4):\n",
    "                    percent_prime_time += 1\n",
    "            \n",
    "            ride_value += ride_cost(ride_distance,ride_duration,ride_prime_time)\n",
    "            total_rides += 1\n",
    "        except: # Note: This happens a lot...\n",
    "            #print(\"Missing data... ride_id:\",ride_id,\"does not exist.\")\n",
    "            pass\n",
    "    if(total_rides > 0 and prime_time_rides > 0):\n",
    "        average_ride_value.append((ride_value+0.0)/total_rides)\n",
    "        percent_prime_time_list.append((100*percent_prime_time+0.0)/prime_time_rides)\n",
    "\n",
    "plt.xlabel('Percent of a Driver\\'s Prime Time Rides that are Weekend Prime Time')\n",
    "plt.ylabel('Average Ride Price of a Driver\\'s Rides')\n",
    "plt.scatter(percent_prime_time_list,average_ride_value,s=2)\n",
    "#plt.scatter(x_hours_full,y_rides_full,s=2,color='red')\n",
    "plt.show()"
   ]
  },
  {
   "cell_type": "markdown",
   "metadata": {},
   "source": [
    "### percent active days and average ride price"
   ]
  },
  {
   "cell_type": "code",
   "execution_count": null,
   "metadata": {},
   "outputs": [],
   "source": [
    "percent_employed = []\n",
    "average_ride_value = []\n",
    "for driver_id, onboard_date in driver_ids:\n",
    "    active_temp = set()\n",
    "    employed_days = 0\n",
    "    ride_value = 0\n",
    "    total_rides = 0\n",
    "    for ride_id in driver_to_ride.get(driver_id,[]):    \n",
    "        try:\n",
    "            ride_distance = ride_ids_map[ride_id][0]\n",
    "            ride_duration = ride_ids_map[ride_id][1]\n",
    "            ride_prime_time = ride_ids_map[ride_id][2]\n",
    "            \n",
    "            ride_day = (ride_timestamps_map[ride_id]['arrived_at'] - onboard_date).days\n",
    "            employed_days = max(employed_days, ride_day+1)\n",
    "            active_temp.add(ride_day)\n",
    "            \n",
    "            ride_value += ride_cost(ride_distance,ride_duration,ride_prime_time)\n",
    "            total_rides += 1\n",
    "        except: # Note: This happens a lot...\n",
    "            #print(\"Missing data... ride_id:\",ride_id,\"does not exist.\")\n",
    "            pass\n",
    "    if(total_rides > 0):\n",
    "        average_ride_value.append((0.0+ride_value)/total_rides)\n",
    "        percent_employed.append((100*len(active_temp)+0.0)/employed_days)\n",
    "        if(len(active_temp) > employed_days):\n",
    "            print(len(active_temp), employed_days)\n",
    "#print(driver_lifetime_active)\n",
    "\n",
    "plt.xlabel('Percent of a Driver\\'s Employed Days that are Active')\n",
    "plt.ylabel('Average Ride Price of a Driver\\'s Rides')\n",
    "plt.scatter(percent_employed,average_ride_value,s=2)\n",
    "plt.show()"
   ]
  }
 ],
 "metadata": {
  "kernelspec": {
   "display_name": "Python 3",
   "language": "python",
   "name": "python3"
  },
  "language_info": {
   "codemirror_mode": {
    "name": "ipython",
    "version": 2
   },
   "file_extension": ".py",
   "mimetype": "text/x-python",
   "name": "python",
   "nbconvert_exporter": "python",
   "pygments_lexer": "ipython2",
   "version": "2.7.15"
  }
 },
 "nbformat": 4,
 "nbformat_minor": 2
}
